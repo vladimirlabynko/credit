{
 "cells": [
  {
   "cell_type": "code",
   "execution_count": 0,
   "metadata": {
    "colab": {
     "base_uri": "https://localhost:8080/",
     "height": 74,
     "resources": {
      "http://localhost:8080/nbextensions/google.colab/files.js": {
       "data": "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",
       "headers": [
        [
         "content-type",
         "application/javascript"
        ]
       ],
       "ok": true,
       "status": 200,
       "status_text": ""
      }
     }
    },
    "colab_type": "code",
    "executionInfo": {
     "elapsed": 66767,
     "status": "ok",
     "timestamp": 1576510501271,
     "user": {
      "displayName": "Владимир Лабынько",
      "photoUrl": "",
      "userId": "13695216491747397447"
     },
     "user_tz": -180
    },
    "id": "wDNEgKf3JvYh",
    "outputId": "cb22d314-043c-4c53-d40d-43af385eab22"
   },
   "outputs": [
    {
     "data": {
      "text/html": [
       "\n",
       "     <input type=\"file\" id=\"files-a28adb7f-c2a9-4425-b890-a353f84005e5\" name=\"files[]\" multiple disabled />\n",
       "     <output id=\"result-a28adb7f-c2a9-4425-b890-a353f84005e5\">\n",
       "      Upload widget is only available when the cell has been executed in the\n",
       "      current browser session. Please rerun this cell to enable.\n",
       "      </output>\n",
       "      <script src=\"/nbextensions/google.colab/files.js\"></script> "
      ],
      "text/plain": [
       "<IPython.core.display.HTML object>"
      ]
     },
     "metadata": {
      "tags": []
     },
     "output_type": "display_data"
    },
    {
     "name": "stdout",
     "output_type": "stream",
     "text": [
      "Saving bank-full.csv to bank-full.csv\n"
     ]
    }
   ],
   "source": [
    "#задание выполнялось в google colab, для открытия файла требуется нажать кнопку выбрать файлы \n",
    "from google.colab import files\n",
    "uploaded = files.upload()"
   ]
  },
  {
   "cell_type": "code",
   "execution_count": 0,
   "metadata": {
    "colab": {
     "base_uri": "https://localhost:8080/",
     "height": 204
    },
    "colab_type": "code",
    "executionInfo": {
     "elapsed": 527,
     "status": "ok",
     "timestamp": 1576510533288,
     "user": {
      "displayName": "Владимир Лабынько",
      "photoUrl": "",
      "userId": "13695216491747397447"
     },
     "user_tz": -180
    },
    "id": "n2kTJsa5JjWo",
    "outputId": "992ac706-188b-4ebf-b02e-a8050cb0f8a8"
   },
   "outputs": [
    {
     "data": {
      "text/html": [
       "<div>\n",
       "<style scoped>\n",
       "    .dataframe tbody tr th:only-of-type {\n",
       "        vertical-align: middle;\n",
       "    }\n",
       "\n",
       "    .dataframe tbody tr th {\n",
       "        vertical-align: top;\n",
       "    }\n",
       "\n",
       "    .dataframe thead th {\n",
       "        text-align: right;\n",
       "    }\n",
       "</style>\n",
       "<table border=\"1\" class=\"dataframe\">\n",
       "  <thead>\n",
       "    <tr style=\"text-align: right;\">\n",
       "      <th></th>\n",
       "      <th>age</th>\n",
       "      <th>job</th>\n",
       "      <th>marital</th>\n",
       "      <th>education</th>\n",
       "      <th>default</th>\n",
       "      <th>balance</th>\n",
       "      <th>housing</th>\n",
       "      <th>loan</th>\n",
       "      <th>contact</th>\n",
       "      <th>day</th>\n",
       "      <th>month</th>\n",
       "      <th>duration</th>\n",
       "      <th>campaign</th>\n",
       "      <th>pdays</th>\n",
       "      <th>previous</th>\n",
       "      <th>poutcome</th>\n",
       "      <th>y</th>\n",
       "    </tr>\n",
       "  </thead>\n",
       "  <tbody>\n",
       "    <tr>\n",
       "      <th>0</th>\n",
       "      <td>58</td>\n",
       "      <td>management</td>\n",
       "      <td>married</td>\n",
       "      <td>tertiary</td>\n",
       "      <td>no</td>\n",
       "      <td>2143</td>\n",
       "      <td>yes</td>\n",
       "      <td>no</td>\n",
       "      <td>unknown</td>\n",
       "      <td>5</td>\n",
       "      <td>may</td>\n",
       "      <td>261</td>\n",
       "      <td>1</td>\n",
       "      <td>-1</td>\n",
       "      <td>0</td>\n",
       "      <td>unknown</td>\n",
       "      <td>no</td>\n",
       "    </tr>\n",
       "    <tr>\n",
       "      <th>1</th>\n",
       "      <td>44</td>\n",
       "      <td>technician</td>\n",
       "      <td>single</td>\n",
       "      <td>secondary</td>\n",
       "      <td>no</td>\n",
       "      <td>29</td>\n",
       "      <td>yes</td>\n",
       "      <td>no</td>\n",
       "      <td>unknown</td>\n",
       "      <td>5</td>\n",
       "      <td>may</td>\n",
       "      <td>151</td>\n",
       "      <td>1</td>\n",
       "      <td>-1</td>\n",
       "      <td>0</td>\n",
       "      <td>unknown</td>\n",
       "      <td>no</td>\n",
       "    </tr>\n",
       "    <tr>\n",
       "      <th>2</th>\n",
       "      <td>33</td>\n",
       "      <td>entrepreneur</td>\n",
       "      <td>married</td>\n",
       "      <td>secondary</td>\n",
       "      <td>no</td>\n",
       "      <td>2</td>\n",
       "      <td>yes</td>\n",
       "      <td>yes</td>\n",
       "      <td>unknown</td>\n",
       "      <td>5</td>\n",
       "      <td>may</td>\n",
       "      <td>76</td>\n",
       "      <td>1</td>\n",
       "      <td>-1</td>\n",
       "      <td>0</td>\n",
       "      <td>unknown</td>\n",
       "      <td>no</td>\n",
       "    </tr>\n",
       "    <tr>\n",
       "      <th>3</th>\n",
       "      <td>47</td>\n",
       "      <td>blue-collar</td>\n",
       "      <td>married</td>\n",
       "      <td>unknown</td>\n",
       "      <td>no</td>\n",
       "      <td>1506</td>\n",
       "      <td>yes</td>\n",
       "      <td>no</td>\n",
       "      <td>unknown</td>\n",
       "      <td>5</td>\n",
       "      <td>may</td>\n",
       "      <td>92</td>\n",
       "      <td>1</td>\n",
       "      <td>-1</td>\n",
       "      <td>0</td>\n",
       "      <td>unknown</td>\n",
       "      <td>no</td>\n",
       "    </tr>\n",
       "    <tr>\n",
       "      <th>4</th>\n",
       "      <td>33</td>\n",
       "      <td>unknown</td>\n",
       "      <td>single</td>\n",
       "      <td>unknown</td>\n",
       "      <td>no</td>\n",
       "      <td>1</td>\n",
       "      <td>no</td>\n",
       "      <td>no</td>\n",
       "      <td>unknown</td>\n",
       "      <td>5</td>\n",
       "      <td>may</td>\n",
       "      <td>198</td>\n",
       "      <td>1</td>\n",
       "      <td>-1</td>\n",
       "      <td>0</td>\n",
       "      <td>unknown</td>\n",
       "      <td>no</td>\n",
       "    </tr>\n",
       "  </tbody>\n",
       "</table>\n",
       "</div>"
      ],
      "text/plain": [
       "   age           job  marital  education  ... pdays  previous poutcome   y\n",
       "0   58    management  married   tertiary  ...    -1         0  unknown  no\n",
       "1   44    technician   single  secondary  ...    -1         0  unknown  no\n",
       "2   33  entrepreneur  married  secondary  ...    -1         0  unknown  no\n",
       "3   47   blue-collar  married    unknown  ...    -1         0  unknown  no\n",
       "4   33       unknown   single    unknown  ...    -1         0  unknown  no\n",
       "\n",
       "[5 rows x 17 columns]"
      ]
     },
     "execution_count": 80,
     "metadata": {
      "tags": []
     },
     "output_type": "execute_result"
    }
   ],
   "source": [
    "# если требуется необходимо поменять название csv файла в квадратных скобках\n",
    "import io\n",
    "import pandas as pd\n",
    "bank_data = pd.read_csv(io.BytesIO(uploaded['bank-full.csv']), sep=';')\n",
    "bank_data.head(5)"
   ]
  },
  {
   "cell_type": "code",
   "execution_count": 0,
   "metadata": {
    "colab": {
     "base_uri": "https://localhost:8080/",
     "height": 297
    },
    "colab_type": "code",
    "executionInfo": {
     "elapsed": 612,
     "status": "ok",
     "timestamp": 1576510546891,
     "user": {
      "displayName": "Владимир Лабынько",
      "photoUrl": "",
      "userId": "13695216491747397447"
     },
     "user_tz": -180
    },
    "id": "JMiyKCeOKfFn",
    "outputId": "afc9f77c-432d-436c-9d52-c0c79c74df17"
   },
   "outputs": [
    {
     "data": {
      "text/html": [
       "<div>\n",
       "<style scoped>\n",
       "    .dataframe tbody tr th:only-of-type {\n",
       "        vertical-align: middle;\n",
       "    }\n",
       "\n",
       "    .dataframe tbody tr th {\n",
       "        vertical-align: top;\n",
       "    }\n",
       "\n",
       "    .dataframe thead th {\n",
       "        text-align: right;\n",
       "    }\n",
       "</style>\n",
       "<table border=\"1\" class=\"dataframe\">\n",
       "  <thead>\n",
       "    <tr style=\"text-align: right;\">\n",
       "      <th></th>\n",
       "      <th>age</th>\n",
       "      <th>balance</th>\n",
       "      <th>day</th>\n",
       "      <th>duration</th>\n",
       "      <th>campaign</th>\n",
       "      <th>pdays</th>\n",
       "      <th>previous</th>\n",
       "    </tr>\n",
       "  </thead>\n",
       "  <tbody>\n",
       "    <tr>\n",
       "      <th>count</th>\n",
       "      <td>45211.000000</td>\n",
       "      <td>45211.000000</td>\n",
       "      <td>45211.000000</td>\n",
       "      <td>45211.000000</td>\n",
       "      <td>45211.000000</td>\n",
       "      <td>45211.000000</td>\n",
       "      <td>45211.000000</td>\n",
       "    </tr>\n",
       "    <tr>\n",
       "      <th>mean</th>\n",
       "      <td>40.936210</td>\n",
       "      <td>1362.272058</td>\n",
       "      <td>15.806419</td>\n",
       "      <td>258.163080</td>\n",
       "      <td>2.763841</td>\n",
       "      <td>40.197828</td>\n",
       "      <td>0.580323</td>\n",
       "    </tr>\n",
       "    <tr>\n",
       "      <th>std</th>\n",
       "      <td>10.618762</td>\n",
       "      <td>3044.765829</td>\n",
       "      <td>8.322476</td>\n",
       "      <td>257.527812</td>\n",
       "      <td>3.098021</td>\n",
       "      <td>100.128746</td>\n",
       "      <td>2.303441</td>\n",
       "    </tr>\n",
       "    <tr>\n",
       "      <th>min</th>\n",
       "      <td>18.000000</td>\n",
       "      <td>-8019.000000</td>\n",
       "      <td>1.000000</td>\n",
       "      <td>0.000000</td>\n",
       "      <td>1.000000</td>\n",
       "      <td>-1.000000</td>\n",
       "      <td>0.000000</td>\n",
       "    </tr>\n",
       "    <tr>\n",
       "      <th>25%</th>\n",
       "      <td>33.000000</td>\n",
       "      <td>72.000000</td>\n",
       "      <td>8.000000</td>\n",
       "      <td>103.000000</td>\n",
       "      <td>1.000000</td>\n",
       "      <td>-1.000000</td>\n",
       "      <td>0.000000</td>\n",
       "    </tr>\n",
       "    <tr>\n",
       "      <th>50%</th>\n",
       "      <td>39.000000</td>\n",
       "      <td>448.000000</td>\n",
       "      <td>16.000000</td>\n",
       "      <td>180.000000</td>\n",
       "      <td>2.000000</td>\n",
       "      <td>-1.000000</td>\n",
       "      <td>0.000000</td>\n",
       "    </tr>\n",
       "    <tr>\n",
       "      <th>75%</th>\n",
       "      <td>48.000000</td>\n",
       "      <td>1428.000000</td>\n",
       "      <td>21.000000</td>\n",
       "      <td>319.000000</td>\n",
       "      <td>3.000000</td>\n",
       "      <td>-1.000000</td>\n",
       "      <td>0.000000</td>\n",
       "    </tr>\n",
       "    <tr>\n",
       "      <th>max</th>\n",
       "      <td>95.000000</td>\n",
       "      <td>102127.000000</td>\n",
       "      <td>31.000000</td>\n",
       "      <td>4918.000000</td>\n",
       "      <td>63.000000</td>\n",
       "      <td>871.000000</td>\n",
       "      <td>275.000000</td>\n",
       "    </tr>\n",
       "  </tbody>\n",
       "</table>\n",
       "</div>"
      ],
      "text/plain": [
       "                age        balance  ...         pdays      previous\n",
       "count  45211.000000   45211.000000  ...  45211.000000  45211.000000\n",
       "mean      40.936210    1362.272058  ...     40.197828      0.580323\n",
       "std       10.618762    3044.765829  ...    100.128746      2.303441\n",
       "min       18.000000   -8019.000000  ...     -1.000000      0.000000\n",
       "25%       33.000000      72.000000  ...     -1.000000      0.000000\n",
       "50%       39.000000     448.000000  ...     -1.000000      0.000000\n",
       "75%       48.000000    1428.000000  ...     -1.000000      0.000000\n",
       "max       95.000000  102127.000000  ...    871.000000    275.000000\n",
       "\n",
       "[8 rows x 7 columns]"
      ]
     },
     "execution_count": 81,
     "metadata": {
      "tags": []
     },
     "output_type": "execute_result"
    }
   ],
   "source": [
    "bank_data.describe()"
   ]
  },
  {
   "cell_type": "code",
   "execution_count": 0,
   "metadata": {
    "colab": {},
    "colab_type": "code",
    "id": "ae9QDMHlUzI8"
   },
   "outputs": [],
   "source": [
    "bank_data['y'] = bank_data['y'].map({'no':0, 'yes':1}) # кодирование нет - 0 да - 1"
   ]
  },
  {
   "cell_type": "code",
   "execution_count": 0,
   "metadata": {
    "colab": {
     "base_uri": "https://localhost:8080/",
     "height": 777
    },
    "colab_type": "code",
    "executionInfo": {
     "elapsed": 1823,
     "status": "ok",
     "timestamp": 1576510553492,
     "user": {
      "displayName": "Владимир Лабынько",
      "photoUrl": "",
      "userId": "13695216491747397447"
     },
     "user_tz": -180
    },
    "id": "cykt_nroU4HU",
    "outputId": "5c976613-c7dc-4253-f573-07dff3e4f7c0"
   },
   "outputs": [
    {
     "data": {
      "text/plain": [
       "array([[<matplotlib.axes._subplots.AxesSubplot object at 0x7f9f49a5b710>,\n",
       "        <matplotlib.axes._subplots.AxesSubplot object at 0x7f9f49ac6400>,\n",
       "        <matplotlib.axes._subplots.AxesSubplot object at 0x7f9f49a58fd0>],\n",
       "       [<matplotlib.axes._subplots.AxesSubplot object at 0x7f9f49a0e5c0>,\n",
       "        <matplotlib.axes._subplots.AxesSubplot object at 0x7f9f499bcb70>,\n",
       "        <matplotlib.axes._subplots.AxesSubplot object at 0x7f9f49977160>],\n",
       "       [<matplotlib.axes._subplots.AxesSubplot object at 0x7f9f49924710>,\n",
       "        <matplotlib.axes._subplots.AxesSubplot object at 0x7f9f49950cf8>,\n",
       "        <matplotlib.axes._subplots.AxesSubplot object at 0x7f9f49950d30>]],\n",
       "      dtype=object)"
      ]
     },
     "execution_count": 83,
     "metadata": {
      "tags": []
     },
     "output_type": "execute_result"
    },
    {
     "data": {
      "image/png": "[encoded data removed]",
      "text/plain": [
       "<Figure size 864x720 with 9 Axes>"
      ]
     },
     "metadata": {
      "tags": []
     },
     "output_type": "display_data"
    }
   ],
   "source": [
    "bank_data.hist(figsize=(12,10)) # гистограмы численных значений"
   ]
  },
  {
   "cell_type": "code",
   "execution_count": 0,
   "metadata": {
    "colab": {
     "base_uri": "https://localhost:8080/",
     "height": 68
    },
    "colab_type": "code",
    "executionInfo": {
     "elapsed": 769,
     "status": "ok",
     "timestamp": 1576510556983,
     "user": {
      "displayName": "Владимир Лабынько",
      "photoUrl": "",
      "userId": "13695216491747397447"
     },
     "user_tz": -180
    },
    "id": "FqvJVEnkU9Tk",
    "outputId": "2e3208c9-b30e-4025-956a-f1afcf2097d0"
   },
   "outputs": [
    {
     "data": {
      "text/plain": [
       "0    39922\n",
       "1     5289\n",
       "Name: y, dtype: int64"
      ]
     },
     "execution_count": 84,
     "metadata": {
      "tags": []
     },
     "output_type": "execute_result"
    }
   ],
   "source": [
    "bank_data['y'].value_counts() # несбалансированный датасет"
   ]
  },
  {
   "cell_type": "code",
   "execution_count": 0,
   "metadata": {
    "colab": {
     "base_uri": "https://localhost:8080/",
     "height": 68
    },
    "colab_type": "code",
    "executionInfo": {
     "elapsed": 612,
     "status": "ok",
     "timestamp": 1576510559791,
     "user": {
      "displayName": "Владимир Лабынько",
      "photoUrl": "",
      "userId": "13695216491747397447"
     },
     "user_tz": -180
    },
    "id": "m45jFksCVED8",
    "outputId": "2a67fd4f-2999-4c7b-b263-ee42c1349454"
   },
   "outputs": [
    {
     "data": {
      "text/plain": [
       "0    0.883015\n",
       "1    0.116985\n",
       "Name: y, dtype: float64"
      ]
     },
     "execution_count": 85,
     "metadata": {
      "tags": []
     },
     "output_type": "execute_result"
    }
   ],
   "source": [
    "bank_data['y'].value_counts()/len(bank_data)"
   ]
  },
  {
   "cell_type": "code",
   "execution_count": 0,
   "metadata": {
    "colab": {
     "base_uri": "https://localhost:8080/",
     "height": 297
    },
    "colab_type": "code",
    "executionInfo": {
     "elapsed": 528,
     "status": "ok",
     "timestamp": 1576510562032,
     "user": {
      "displayName": "Владимир Лабынько",
      "photoUrl": "",
      "userId": "13695216491747397447"
     },
     "user_tz": -180
    },
    "id": "KKyhJCKmVIUD",
    "outputId": "ec8926fd-b8bb-4db8-a040-4b7fba7c4810"
   },
   "outputs": [
    {
     "data": {
      "text/html": [
       "<div>\n",
       "<style scoped>\n",
       "    .dataframe tbody tr th:only-of-type {\n",
       "        vertical-align: middle;\n",
       "    }\n",
       "\n",
       "    .dataframe tbody tr th {\n",
       "        vertical-align: top;\n",
       "    }\n",
       "\n",
       "    .dataframe thead th {\n",
       "        text-align: right;\n",
       "    }\n",
       "</style>\n",
       "<table border=\"1\" class=\"dataframe\">\n",
       "  <thead>\n",
       "    <tr style=\"text-align: right;\">\n",
       "      <th></th>\n",
       "      <th>age</th>\n",
       "      <th>balance</th>\n",
       "      <th>day</th>\n",
       "      <th>duration</th>\n",
       "      <th>campaign</th>\n",
       "      <th>pdays</th>\n",
       "      <th>previous</th>\n",
       "      <th>y</th>\n",
       "    </tr>\n",
       "  </thead>\n",
       "  <tbody>\n",
       "    <tr>\n",
       "      <th>age</th>\n",
       "      <td>1.000000</td>\n",
       "      <td>0.097783</td>\n",
       "      <td>-0.009120</td>\n",
       "      <td>-0.004648</td>\n",
       "      <td>0.004760</td>\n",
       "      <td>-0.023758</td>\n",
       "      <td>0.001288</td>\n",
       "      <td>0.025155</td>\n",
       "    </tr>\n",
       "    <tr>\n",
       "      <th>balance</th>\n",
       "      <td>0.097783</td>\n",
       "      <td>1.000000</td>\n",
       "      <td>0.004503</td>\n",
       "      <td>0.021560</td>\n",
       "      <td>-0.014578</td>\n",
       "      <td>0.003435</td>\n",
       "      <td>0.016674</td>\n",
       "      <td>0.052838</td>\n",
       "    </tr>\n",
       "    <tr>\n",
       "      <th>day</th>\n",
       "      <td>-0.009120</td>\n",
       "      <td>0.004503</td>\n",
       "      <td>1.000000</td>\n",
       "      <td>-0.030206</td>\n",
       "      <td>0.162490</td>\n",
       "      <td>-0.093044</td>\n",
       "      <td>-0.051710</td>\n",
       "      <td>-0.028348</td>\n",
       "    </tr>\n",
       "    <tr>\n",
       "      <th>duration</th>\n",
       "      <td>-0.004648</td>\n",
       "      <td>0.021560</td>\n",
       "      <td>-0.030206</td>\n",
       "      <td>1.000000</td>\n",
       "      <td>-0.084570</td>\n",
       "      <td>-0.001565</td>\n",
       "      <td>0.001203</td>\n",
       "      <td>0.394521</td>\n",
       "    </tr>\n",
       "    <tr>\n",
       "      <th>campaign</th>\n",
       "      <td>0.004760</td>\n",
       "      <td>-0.014578</td>\n",
       "      <td>0.162490</td>\n",
       "      <td>-0.084570</td>\n",
       "      <td>1.000000</td>\n",
       "      <td>-0.088628</td>\n",
       "      <td>-0.032855</td>\n",
       "      <td>-0.073172</td>\n",
       "    </tr>\n",
       "    <tr>\n",
       "      <th>pdays</th>\n",
       "      <td>-0.023758</td>\n",
       "      <td>0.003435</td>\n",
       "      <td>-0.093044</td>\n",
       "      <td>-0.001565</td>\n",
       "      <td>-0.088628</td>\n",
       "      <td>1.000000</td>\n",
       "      <td>0.454820</td>\n",
       "      <td>0.103621</td>\n",
       "    </tr>\n",
       "    <tr>\n",
       "      <th>previous</th>\n",
       "      <td>0.001288</td>\n",
       "      <td>0.016674</td>\n",
       "      <td>-0.051710</td>\n",
       "      <td>0.001203</td>\n",
       "      <td>-0.032855</td>\n",
       "      <td>0.454820</td>\n",
       "      <td>1.000000</td>\n",
       "      <td>0.093236</td>\n",
       "    </tr>\n",
       "    <tr>\n",
       "      <th>y</th>\n",
       "      <td>0.025155</td>\n",
       "      <td>0.052838</td>\n",
       "      <td>-0.028348</td>\n",
       "      <td>0.394521</td>\n",
       "      <td>-0.073172</td>\n",
       "      <td>0.103621</td>\n",
       "      <td>0.093236</td>\n",
       "      <td>1.000000</td>\n",
       "    </tr>\n",
       "  </tbody>\n",
       "</table>\n",
       "</div>"
      ],
      "text/plain": [
       "               age   balance       day  ...     pdays  previous         y\n",
       "age       1.000000  0.097783 -0.009120  ... -0.023758  0.001288  0.025155\n",
       "balance   0.097783  1.000000  0.004503  ...  0.003435  0.016674  0.052838\n",
       "day      -0.009120  0.004503  1.000000  ... -0.093044 -0.051710 -0.028348\n",
       "duration -0.004648  0.021560 -0.030206  ... -0.001565  0.001203  0.394521\n",
       "campaign  0.004760 -0.014578  0.162490  ... -0.088628 -0.032855 -0.073172\n",
       "pdays    -0.023758  0.003435 -0.093044  ...  1.000000  0.454820  0.103621\n",
       "previous  0.001288  0.016674 -0.051710  ...  0.454820  1.000000  0.093236\n",
       "y         0.025155  0.052838 -0.028348  ...  0.103621  0.093236  1.000000\n",
       "\n",
       "[8 rows x 8 columns]"
      ]
     },
     "execution_count": 86,
     "metadata": {
      "tags": []
     },
     "output_type": "execute_result"
    }
   ],
   "source": [
    "bank_data.corr() # корреляционная матрица"
   ]
  },
  {
   "cell_type": "code",
   "execution_count": 0,
   "metadata": {
    "colab": {
     "base_uri": "https://localhost:8080/",
     "height": 1000
    },
    "colab_type": "code",
    "executionInfo": {
     "elapsed": 2494,
     "status": "ok",
     "timestamp": 1576510566566,
     "user": {
      "displayName": "Владимир Лабынько",
      "photoUrl": "",
      "userId": "13695216491747397447"
     },
     "user_tz": -180
    },
    "id": "Deb745OEVLJE",
    "outputId": "3af95a82-d998-46f0-c599-660fcf196c6d"
   },
   "outputs": [
    {
     "data": {
      "image/png": "[encoded data removed]",
      "text/plain": [
       "<Figure size 720x432 with 1 Axes>"
      ]
     },
     "metadata": {
      "tags": []
     },
     "output_type": "display_data"
    },
    {
     "data": {
      "image/png": "[encoded data removed]",
      "text/plain": [
       "<Figure size 720x432 with 1 Axes>"
      ]
     },
     "metadata": {
      "tags": []
     },
     "output_type": "display_data"
    },
    {
     "data": {
      "image/png": "[encoded data removed]",
      "text/plain": [
       "<Figure size 720x432 with 1 Axes>"
      ]
     },
     "metadata": {
      "tags": []
     },
     "output_type": "display_data"
    },
    {
     "data": {
      "image/png": "[encoded data removed]",
      "text/plain": [
       "<Figure size 720x432 with 1 Axes>"
      ]
     },
     "metadata": {
      "tags": []
     },
     "output_type": "display_data"
    },
    {
     "data": {
      "image/png": "[encoded data removed]",
      "text/plain": [
       "<Figure size 720x432 with 1 Axes>"
      ]
     },
     "metadata": {
      "tags": []
     },
     "output_type": "display_data"
    },
    {
     "data": {
      "image/png": "[encoded data removed]",
      "text/plain": [
       "<Figure size 720x432 with 1 Axes>"
      ]
     },
     "metadata": {
      "tags": []
     },
     "output_type": "display_data"
    },
    {
     "data": {
      "image/png": "[encoded data removed]",
      "text/plain": [
       "<Figure size 720x432 with 1 Axes>"
      ]
     },
     "metadata": {
      "tags": []
     },
     "output_type": "display_data"
    },
    {
     "data": {
      "image/png": "[encoded data removed]",
      "text/plain": [
       "<Figure size 720x432 with 1 Axes>"
      ]
     },
     "metadata": {
      "tags": []
     },
     "output_type": "display_data"
    },
    {
     "data": {
      "image/png": "[encoded data removed]",
      "text/plain": [
       "<Figure size 720x432 with 1 Axes>"
      ]
     },
     "metadata": {
      "tags": []
     },
     "output_type": "display_data"
    },
    {
     "data": {
      "image/png": "[encoded data removed]",
      "text/plain": [
       "<Figure size 720x432 with 1 Axes>"
      ]
     },
     "metadata": {
      "tags": []
     },
     "output_type": "display_data"
    }
   ],
   "source": [
    "import matplotlib.pyplot as plt\n",
    "%matplotlib inline\n",
    "\n",
    "categorical = ['job','marital','education','default','housing','loan','contact','month','day','poutcome']\n",
    "for i in categorical:\n",
    "    bank_data[i].value_counts().plot(kind='bar',figsize = (10, 6),title=i)\n",
    "    plt.show()"
   ]
  },
  {
   "cell_type": "code",
   "execution_count": 0,
   "metadata": {
    "colab": {},
    "colab_type": "code",
    "id": "g78s0T1oZTa0"
   },
   "outputs": [],
   "source": [
    "X = bank_data.iloc[:, 0:16]\n",
    "Y = bank_data.iloc[:, 16]"
   ]
  },
  {
   "cell_type": "code",
   "execution_count": 0,
   "metadata": {
    "colab": {},
    "colab_type": "code",
    "id": "s_GJlM2PZKoM"
   },
   "outputs": [],
   "source": [
    "#Splitting the catagorical variable to 0s and 1s using LabelEncoder\n",
    "from sklearn.preprocessing import LabelEncoder, OneHotEncoder\n",
    "LabelEncoder().fit_transform(['no','yes'])\n",
    "housing = LabelEncoder().fit_transform(X['housing'])\n",
    "loan = LabelEncoder().fit_transform(X['loan'])\n",
    "deposit = LabelEncoder().fit_transform(Y)\n",
    "job = LabelEncoder().fit_transform(X['job'])\n",
    "marital = LabelEncoder().fit_transform(X['marital'])\n",
    "education = LabelEncoder().fit_transform(X['education'])\n",
    "poutcome = LabelEncoder().fit_transform(X['poutcome'])"
   ]
  },
  {
   "cell_type": "code",
   "execution_count": 0,
   "metadata": {
    "colab": {},
    "colab_type": "code",
    "id": "wCJefcQdZ185"
   },
   "outputs": [],
   "source": [
    "X['housing'] = housing\n",
    "X['loan']= loan\n",
    "X['job'] = job\n",
    "X['marital']=marital\n",
    "X['education']=education\n",
    "X['poutcome']=poutcome\n",
    "Y=deposit\n",
    "del X['month']\n",
    "del X['day']\n",
    "del X['contact']\n",
    "del X['default']"
   ]
  },
  {
   "cell_type": "code",
   "execution_count": 0,
   "metadata": {
    "colab": {
     "base_uri": "https://localhost:8080/",
     "height": 419
    },
    "colab_type": "code",
    "executionInfo": {
     "elapsed": 697,
     "status": "ok",
     "timestamp": 1576510581641,
     "user": {
      "displayName": "Владимир Лабынько",
      "photoUrl": "",
      "userId": "13695216491747397447"
     },
     "user_tz": -180
    },
    "id": "CJc8kC_VZ4Ph",
    "outputId": "83f6c975-9635-46a3-b0b8-151d71bfc78f"
   },
   "outputs": [
    {
     "data": {
      "text/html": [
       "<div>\n",
       "<style scoped>\n",
       "    .dataframe tbody tr th:only-of-type {\n",
       "        vertical-align: middle;\n",
       "    }\n",
       "\n",
       "    .dataframe tbody tr th {\n",
       "        vertical-align: top;\n",
       "    }\n",
       "\n",
       "    .dataframe thead th {\n",
       "        text-align: right;\n",
       "    }\n",
       "</style>\n",
       "<table border=\"1\" class=\"dataframe\">\n",
       "  <thead>\n",
       "    <tr style=\"text-align: right;\">\n",
       "      <th></th>\n",
       "      <th>age</th>\n",
       "      <th>job</th>\n",
       "      <th>marital</th>\n",
       "      <th>education</th>\n",
       "      <th>balance</th>\n",
       "      <th>housing</th>\n",
       "      <th>loan</th>\n",
       "      <th>duration</th>\n",
       "      <th>campaign</th>\n",
       "      <th>pdays</th>\n",
       "      <th>previous</th>\n",
       "      <th>poutcome</th>\n",
       "    </tr>\n",
       "  </thead>\n",
       "  <tbody>\n",
       "    <tr>\n",
       "      <th>0</th>\n",
       "      <td>58</td>\n",
       "      <td>4</td>\n",
       "      <td>1</td>\n",
       "      <td>2</td>\n",
       "      <td>2143</td>\n",
       "      <td>1</td>\n",
       "      <td>0</td>\n",
       "      <td>261</td>\n",
       "      <td>1</td>\n",
       "      <td>-1</td>\n",
       "      <td>0</td>\n",
       "      <td>3</td>\n",
       "    </tr>\n",
       "    <tr>\n",
       "      <th>1</th>\n",
       "      <td>44</td>\n",
       "      <td>9</td>\n",
       "      <td>2</td>\n",
       "      <td>1</td>\n",
       "      <td>29</td>\n",
       "      <td>1</td>\n",
       "      <td>0</td>\n",
       "      <td>151</td>\n",
       "      <td>1</td>\n",
       "      <td>-1</td>\n",
       "      <td>0</td>\n",
       "      <td>3</td>\n",
       "    </tr>\n",
       "    <tr>\n",
       "      <th>2</th>\n",
       "      <td>33</td>\n",
       "      <td>2</td>\n",
       "      <td>1</td>\n",
       "      <td>1</td>\n",
       "      <td>2</td>\n",
       "      <td>1</td>\n",
       "      <td>1</td>\n",
       "      <td>76</td>\n",
       "      <td>1</td>\n",
       "      <td>-1</td>\n",
       "      <td>0</td>\n",
       "      <td>3</td>\n",
       "    </tr>\n",
       "    <tr>\n",
       "      <th>3</th>\n",
       "      <td>47</td>\n",
       "      <td>1</td>\n",
       "      <td>1</td>\n",
       "      <td>3</td>\n",
       "      <td>1506</td>\n",
       "      <td>1</td>\n",
       "      <td>0</td>\n",
       "      <td>92</td>\n",
       "      <td>1</td>\n",
       "      <td>-1</td>\n",
       "      <td>0</td>\n",
       "      <td>3</td>\n",
       "    </tr>\n",
       "    <tr>\n",
       "      <th>4</th>\n",
       "      <td>33</td>\n",
       "      <td>11</td>\n",
       "      <td>2</td>\n",
       "      <td>3</td>\n",
       "      <td>1</td>\n",
       "      <td>0</td>\n",
       "      <td>0</td>\n",
       "      <td>198</td>\n",
       "      <td>1</td>\n",
       "      <td>-1</td>\n",
       "      <td>0</td>\n",
       "      <td>3</td>\n",
       "    </tr>\n",
       "    <tr>\n",
       "      <th>...</th>\n",
       "      <td>...</td>\n",
       "      <td>...</td>\n",
       "      <td>...</td>\n",
       "      <td>...</td>\n",
       "      <td>...</td>\n",
       "      <td>...</td>\n",
       "      <td>...</td>\n",
       "      <td>...</td>\n",
       "      <td>...</td>\n",
       "      <td>...</td>\n",
       "      <td>...</td>\n",
       "      <td>...</td>\n",
       "    </tr>\n",
       "    <tr>\n",
       "      <th>45206</th>\n",
       "      <td>51</td>\n",
       "      <td>9</td>\n",
       "      <td>1</td>\n",
       "      <td>2</td>\n",
       "      <td>825</td>\n",
       "      <td>0</td>\n",
       "      <td>0</td>\n",
       "      <td>977</td>\n",
       "      <td>3</td>\n",
       "      <td>-1</td>\n",
       "      <td>0</td>\n",
       "      <td>3</td>\n",
       "    </tr>\n",
       "    <tr>\n",
       "      <th>45207</th>\n",
       "      <td>71</td>\n",
       "      <td>5</td>\n",
       "      <td>0</td>\n",
       "      <td>0</td>\n",
       "      <td>1729</td>\n",
       "      <td>0</td>\n",
       "      <td>0</td>\n",
       "      <td>456</td>\n",
       "      <td>2</td>\n",
       "      <td>-1</td>\n",
       "      <td>0</td>\n",
       "      <td>3</td>\n",
       "    </tr>\n",
       "    <tr>\n",
       "      <th>45208</th>\n",
       "      <td>72</td>\n",
       "      <td>5</td>\n",
       "      <td>1</td>\n",
       "      <td>1</td>\n",
       "      <td>5715</td>\n",
       "      <td>0</td>\n",
       "      <td>0</td>\n",
       "      <td>1127</td>\n",
       "      <td>5</td>\n",
       "      <td>184</td>\n",
       "      <td>3</td>\n",
       "      <td>2</td>\n",
       "    </tr>\n",
       "    <tr>\n",
       "      <th>45209</th>\n",
       "      <td>57</td>\n",
       "      <td>1</td>\n",
       "      <td>1</td>\n",
       "      <td>1</td>\n",
       "      <td>668</td>\n",
       "      <td>0</td>\n",
       "      <td>0</td>\n",
       "      <td>508</td>\n",
       "      <td>4</td>\n",
       "      <td>-1</td>\n",
       "      <td>0</td>\n",
       "      <td>3</td>\n",
       "    </tr>\n",
       "    <tr>\n",
       "      <th>45210</th>\n",
       "      <td>37</td>\n",
       "      <td>2</td>\n",
       "      <td>1</td>\n",
       "      <td>1</td>\n",
       "      <td>2971</td>\n",
       "      <td>0</td>\n",
       "      <td>0</td>\n",
       "      <td>361</td>\n",
       "      <td>2</td>\n",
       "      <td>188</td>\n",
       "      <td>11</td>\n",
       "      <td>1</td>\n",
       "    </tr>\n",
       "  </tbody>\n",
       "</table>\n",
       "<p>45211 rows × 12 columns</p>\n",
       "</div>"
      ],
      "text/plain": [
       "       age  job  marital  education  ...  campaign  pdays  previous  poutcome\n",
       "0       58    4        1          2  ...         1     -1         0         3\n",
       "1       44    9        2          1  ...         1     -1         0         3\n",
       "2       33    2        1          1  ...         1     -1         0         3\n",
       "3       47    1        1          3  ...         1     -1         0         3\n",
       "4       33   11        2          3  ...         1     -1         0         3\n",
       "...    ...  ...      ...        ...  ...       ...    ...       ...       ...\n",
       "45206   51    9        1          2  ...         3     -1         0         3\n",
       "45207   71    5        0          0  ...         2     -1         0         3\n",
       "45208   72    5        1          1  ...         5    184         3         2\n",
       "45209   57    1        1          1  ...         4     -1         0         3\n",
       "45210   37    2        1          1  ...         2    188        11         1\n",
       "\n",
       "[45211 rows x 12 columns]"
      ]
     },
     "execution_count": 92,
     "metadata": {
      "tags": []
     },
     "output_type": "execute_result"
    }
   ],
   "source": [
    "X"
   ]
  },
  {
   "cell_type": "code",
   "execution_count": 0,
   "metadata": {
    "colab": {
     "base_uri": "https://localhost:8080/",
     "height": 34
    },
    "colab_type": "code",
    "executionInfo": {
     "elapsed": 584,
     "status": "ok",
     "timestamp": 1576510585627,
     "user": {
      "displayName": "Владимир Лабынько",
      "photoUrl": "",
      "userId": "13695216491747397447"
     },
     "user_tz": -180
    },
    "id": "5_LALNQnZ7bM",
    "outputId": "19a940d0-58f5-4b42-cd1d-470864df4084"
   },
   "outputs": [
    {
     "data": {
      "text/plain": [
       "array([0, 0, 0, ..., 1, 0, 0])"
      ]
     },
     "execution_count": 93,
     "metadata": {
      "tags": []
     },
     "output_type": "execute_result"
    }
   ],
   "source": [
    "Y"
   ]
  },
  {
   "cell_type": "code",
   "execution_count": 0,
   "metadata": {
    "colab": {
     "base_uri": "https://localhost:8080/",
     "height": 34
    },
    "colab_type": "code",
    "executionInfo": {
     "elapsed": 765,
     "status": "ok",
     "timestamp": 1576510586514,
     "user": {
      "displayName": "Владимир Лабынько",
      "photoUrl": "",
      "userId": "13695216491747397447"
     },
     "user_tz": -180
    },
    "id": "nyd7EI50Z-iE",
    "outputId": "2e762c94-2aea-4634-a65b-3798a8136f0b"
   },
   "outputs": [
    {
     "data": {
      "text/plain": [
       "(45211, 12)"
      ]
     },
     "execution_count": 94,
     "metadata": {
      "tags": []
     },
     "output_type": "execute_result"
    }
   ],
   "source": [
    "X.shape"
   ]
  },
  {
   "cell_type": "code",
   "execution_count": 0,
   "metadata": {
    "colab": {
     "base_uri": "https://localhost:8080/",
     "height": 34
    },
    "colab_type": "code",
    "executionInfo": {
     "elapsed": 522,
     "status": "ok",
     "timestamp": 1576510588334,
     "user": {
      "displayName": "Владимир Лабынько",
      "photoUrl": "",
      "userId": "13695216491747397447"
     },
     "user_tz": -180
    },
    "id": "zhFiXz5uZ_RL",
    "outputId": "86fb0740-3ed5-4b08-a67a-96e8e5c8591b"
   },
   "outputs": [
    {
     "data": {
      "text/plain": [
       "(45211,)"
      ]
     },
     "execution_count": 95,
     "metadata": {
      "tags": []
     },
     "output_type": "execute_result"
    }
   ],
   "source": [
    "Y.shape"
   ]
  },
  {
   "cell_type": "code",
   "execution_count": 0,
   "metadata": {
    "colab": {
     "base_uri": "https://localhost:8080/",
     "height": 139
    },
    "colab_type": "code",
    "executionInfo": {
     "elapsed": 521,
     "status": "ok",
     "timestamp": 1576510590440,
     "user": {
      "displayName": "Владимир Лабынько",
      "photoUrl": "",
      "userId": "13695216491747397447"
     },
     "user_tz": -180
    },
    "id": "30SiKzepaFdn",
    "outputId": "fd7c041d-a401-4de4-f94c-4dd6ebd86654"
   },
   "outputs": [
    {
     "name": "stderr",
     "output_type": "stream",
     "text": [
      "/usr/local/lib/python3.6/dist-packages/sklearn/preprocessing/_encoders.py:415: FutureWarning: The handling of integer data will change in version 0.22. Currently, the categories are determined based on the range [0, max(values)], while in the future they will be determined based on the unique values.\n",
      "If you want the future behaviour and silence this warning, you can specify \"categories='auto'\".\n",
      "In case you used a LabelEncoder before this OneHotEncoder to convert the categories to integers, then you can now use the OneHotEncoder directly.\n",
      "  warnings.warn(msg, FutureWarning)\n",
      "/usr/local/lib/python3.6/dist-packages/sklearn/preprocessing/_encoders.py:451: DeprecationWarning: The 'categorical_features' keyword is deprecated in version 0.20 and will be removed in 0.22. You can use the ColumnTransformer instead.\n",
      "  \"use the ColumnTransformer instead.\", DeprecationWarning)\n"
     ]
    }
   ],
   "source": [
    "onehotencoder = OneHotEncoder(categorical_features = [1,2,3,11])\n",
    "X = onehotencoder.fit_transform(X).toarray()"
   ]
  },
  {
   "cell_type": "code",
   "execution_count": 0,
   "metadata": {
    "colab": {
     "base_uri": "https://localhost:8080/",
     "height": 136
    },
    "colab_type": "code",
    "executionInfo": {
     "elapsed": 525,
     "status": "ok",
     "timestamp": 1576510593538,
     "user": {
      "displayName": "Владимир Лабынько",
      "photoUrl": "",
      "userId": "13695216491747397447"
     },
     "user_tz": -180
    },
    "id": "KBus0w_WaHNs",
    "outputId": "d5502342-fd64-4d08-c5b4-7a3589272c3e"
   },
   "outputs": [
    {
     "data": {
      "text/plain": [
       "array([[  0.,   0.,   0., ...,   1.,  -1.,   0.],\n",
       "       [  0.,   0.,   0., ...,   1.,  -1.,   0.],\n",
       "       [  0.,   0.,   1., ...,   1.,  -1.,   0.],\n",
       "       ...,\n",
       "       [  0.,   0.,   0., ...,   5., 184.,   3.],\n",
       "       [  0.,   1.,   0., ...,   4.,  -1.,   0.],\n",
       "       [  0.,   0.,   1., ...,   2., 188.,  11.]])"
      ]
     },
     "execution_count": 97,
     "metadata": {
      "tags": []
     },
     "output_type": "execute_result"
    }
   ],
   "source": [
    "X"
   ]
  },
  {
   "cell_type": "code",
   "execution_count": 0,
   "metadata": {
    "colab": {
     "base_uri": "https://localhost:8080/",
     "height": 34
    },
    "colab_type": "code",
    "executionInfo": {
     "elapsed": 525,
     "status": "ok",
     "timestamp": 1576510594953,
     "user": {
      "displayName": "Владимир Лабынько",
      "photoUrl": "",
      "userId": "13695216491747397447"
     },
     "user_tz": -180
    },
    "id": "SdLdtgokaMAF",
    "outputId": "03089c56-f7cc-4834-b476-40411b699abd"
   },
   "outputs": [
    {
     "data": {
      "text/plain": [
       "(45211, 31)"
      ]
     },
     "execution_count": 98,
     "metadata": {
      "tags": []
     },
     "output_type": "execute_result"
    }
   ],
   "source": [
    "X.shape"
   ]
  },
  {
   "cell_type": "code",
   "execution_count": 0,
   "metadata": {
    "colab": {
     "base_uri": "https://localhost:8080/",
     "height": 295
    },
    "colab_type": "code",
    "executionInfo": {
     "elapsed": 1878,
     "status": "ok",
     "timestamp": 1576510599055,
     "user": {
      "displayName": "Владимир Лабынько",
      "photoUrl": "",
      "userId": "13695216491747397447"
     },
     "user_tz": -180
    },
    "id": "t6F1nrcpaQFV",
    "outputId": "f500939e-c780-4edd-8d80-fa47156e4616"
   },
   "outputs": [
    {
     "data": {
      "image/png": "[encoded data removed]",
      "text/plain": [
       "<Figure size 432x288 with 1 Axes>"
      ]
     },
     "metadata": {
      "tags": []
     },
     "output_type": "display_data"
    }
   ],
   "source": [
    "## Показатели соотношения между жильем и депозитом \n",
    "import seaborn as sns\n",
    "\n",
    "sns.barplot(x=deposit, y=housing, data= bank_data)\n",
    "plt.xlabel(\"number of people deposit\")\n",
    "plt.ylabel(\"Housing\")\n",
    "plt.title(\"Deposit vs Housing\")\n",
    "plt.show()"
   ]
  },
  {
   "cell_type": "code",
   "execution_count": 0,
   "metadata": {
    "colab": {},
    "colab_type": "code",
    "id": "eDn4o49WacUs"
   },
   "outputs": [],
   "source": [
    "## spliting the data into train and test\n",
    "from sklearn.model_selection import train_test_split\n",
    "X_train, X_test, y_train, y_test = train_test_split(X,Y, test_size = 0.2, random_state = 76)"
   ]
  },
  {
   "cell_type": "code",
   "execution_count": 0,
   "metadata": {
    "colab": {},
    "colab_type": "code",
    "id": "ZBAOUkEVagnF"
   },
   "outputs": [],
   "source": [
    "##Feature scaling \n",
    "\n",
    "from sklearn.preprocessing import StandardScaler\n",
    "sc = StandardScaler()\n",
    "X_train = sc.fit_transform(X_train)\n",
    "X_test = sc.fit_transform(X_test)"
   ]
  },
  {
   "cell_type": "code",
   "execution_count": 0,
   "metadata": {
    "colab": {
     "base_uri": "https://localhost:8080/",
     "height": 34
    },
    "colab_type": "code",
    "executionInfo": {
     "elapsed": 547,
     "status": "ok",
     "timestamp": 1576510606617,
     "user": {
      "displayName": "Владимир Лабынько",
      "photoUrl": "",
      "userId": "13695216491747397447"
     },
     "user_tz": -180
    },
    "id": "HCZ33EFgakvx",
    "outputId": "02d4e2b0-d91f-44c9-b1b6-6167c3fd2312"
   },
   "outputs": [
    {
     "data": {
      "text/plain": [
       "(9043, 31)"
      ]
     },
     "execution_count": 102,
     "metadata": {
      "tags": []
     },
     "output_type": "execute_result"
    }
   ],
   "source": [
    "X_test.shape"
   ]
  },
  {
   "cell_type": "markdown",
   "metadata": {
    "colab_type": "text",
    "id": "6bQCUeaRcdqX"
   },
   "source": [
    "##Ненасыщенные функции активации"
   ]
  },
  {
   "cell_type": "code",
   "execution_count": 0,
   "metadata": {
    "colab": {},
    "colab_type": "code",
    "id": "NkMS4j9tALZt"
   },
   "outputs": [],
   "source": [
    "import tensorflow as tf\n",
    "from tensorflow import keras\n",
    "import numpy as np\n",
    "import os"
   ]
  },
  {
   "cell_type": "code",
   "execution_count": 0,
   "metadata": {
    "colab": {},
    "colab_type": "code",
    "id": "ZOuKIzhONoOz"
   },
   "outputs": [],
   "source": [
    "#Leaky ReLU\n",
    "model = keras.models.Sequential([\n",
    "    keras.layers.Flatten( input_shape=(31,)),\n",
    "    keras.layers.Dense(300, kernel_initializer=\"he_normal\"),\n",
    "    keras.layers.LeakyReLU(),\n",
    "    keras.layers.Dense(100, kernel_initializer=\"he_normal\"),\n",
    "    keras.layers.LeakyReLU(),\n",
    "    keras.layers.Dense(2, activation=\"softmax\")\n",
    "])"
   ]
  },
  {
   "cell_type": "code",
   "execution_count": 0,
   "metadata": {
    "colab": {
     "base_uri": "https://localhost:8080/",
     "height": 357
    },
    "colab_type": "code",
    "executionInfo": {
     "elapsed": 656,
     "status": "ok",
     "timestamp": 1576510615110,
     "user": {
      "displayName": "Владимир Лабынько",
      "photoUrl": "",
      "userId": "13695216491747397447"
     },
     "user_tz": -180
    },
    "id": "zacmL_GDRFPB",
    "outputId": "1dea73fe-b3fc-4eaa-fa06-17a67985089e"
   },
   "outputs": [
    {
     "name": "stdout",
     "output_type": "stream",
     "text": [
      "Model: \"sequential_17\"\n",
      "_________________________________________________________________\n",
      "Layer (type)                 Output Shape              Param #   \n",
      "=================================================================\n",
      "flatten_17 (Flatten)         (None, 31)                0         \n",
      "_________________________________________________________________\n",
      "dense_149 (Dense)            (None, 300)               9600      \n",
      "_________________________________________________________________\n",
      "leaky_re_lu_2 (LeakyReLU)    (None, 300)               0         \n",
      "_________________________________________________________________\n",
      "dense_150 (Dense)            (None, 100)               30100     \n",
      "_________________________________________________________________\n",
      "leaky_re_lu_3 (LeakyReLU)    (None, 100)               0         \n",
      "_________________________________________________________________\n",
      "dense_151 (Dense)            (None, 2)                 202       \n",
      "=================================================================\n",
      "Total params: 39,902\n",
      "Trainable params: 39,902\n",
      "Non-trainable params: 0\n",
      "_________________________________________________________________\n"
     ]
    }
   ],
   "source": [
    "model.summary()"
   ]
  },
  {
   "cell_type": "code",
   "execution_count": 0,
   "metadata": {
    "colab": {},
    "colab_type": "code",
    "id": "SBMXImXROC9R"
   },
   "outputs": [],
   "source": [
    "model.compile(loss=\"sparse_categorical_crossentropy\",\n",
    "              optimizer=keras.optimizers.SGD(lr=1e-3),\n",
    "              metrics=[\"accuracy\"])"
   ]
  },
  {
   "cell_type": "code",
   "execution_count": 0,
   "metadata": {
    "colab": {
     "base_uri": "https://localhost:8080/",
     "height": 374
    },
    "colab_type": "code",
    "executionInfo": {
     "elapsed": 28896,
     "status": "ok",
     "timestamp": 1576510646642,
     "user": {
      "displayName": "Владимир Лабынько",
      "photoUrl": "",
      "userId": "13695216491747397447"
     },
     "user_tz": -180
    },
    "id": "ONhffTvQOHP_",
    "outputId": "dbd0a270-5018-40da-eaf9-a063be93f6e0"
   },
   "outputs": [
    {
     "name": "stdout",
     "output_type": "stream",
     "text": [
      "Train on 36168 samples, validate on 9043 samples\n",
      "Epoch 1/10\n",
      "36168/36168 [==============================] - 3s 95us/sample - loss: 0.3321 - acc: 0.8737 - val_loss: 0.2748 - val_acc: 0.8955\n",
      "Epoch 2/10\n",
      "36168/36168 [==============================] - 3s 73us/sample - loss: 0.2636 - acc: 0.8980 - val_loss: 0.2673 - val_acc: 0.8957\n",
      "Epoch 3/10\n",
      "36168/36168 [==============================] - 3s 71us/sample - loss: 0.2589 - acc: 0.8987 - val_loss: 0.2633 - val_acc: 0.8964\n",
      "Epoch 4/10\n",
      "36168/36168 [==============================] - 3s 72us/sample - loss: 0.2560 - acc: 0.8988 - val_loss: 0.2628 - val_acc: 0.8958\n",
      "Epoch 5/10\n",
      "36168/36168 [==============================] - 3s 71us/sample - loss: 0.2539 - acc: 0.8986 - val_loss: 0.2602 - val_acc: 0.8965\n",
      "Epoch 6/10\n",
      "36168/36168 [==============================] - 3s 71us/sample - loss: 0.2519 - acc: 0.8997 - val_loss: 0.2593 - val_acc: 0.8956\n",
      "Epoch 7/10\n",
      "36168/36168 [==============================] - 3s 71us/sample - loss: 0.2505 - acc: 0.8997 - val_loss: 0.2584 - val_acc: 0.8956\n",
      "Epoch 8/10\n",
      "36168/36168 [==============================] - 3s 72us/sample - loss: 0.2489 - acc: 0.9001 - val_loss: 0.2583 - val_acc: 0.8954\n",
      "Epoch 9/10\n",
      "36168/36168 [==============================] - 3s 71us/sample - loss: 0.2478 - acc: 0.9005 - val_loss: 0.2570 - val_acc: 0.8959\n",
      "Epoch 10/10\n",
      "36168/36168 [==============================] - 3s 71us/sample - loss: 0.2466 - acc: 0.9007 - val_loss: 0.2555 - val_acc: 0.8962\n"
     ]
    }
   ],
   "source": [
    "history = model.fit(X_train, y_train, epochs=10,\n",
    "                    validation_data=(X_test, y_test))"
   ]
  },
  {
   "cell_type": "code",
   "execution_count": 0,
   "metadata": {
    "colab": {},
    "colab_type": "code",
    "id": "mzah2vWwbazs"
   },
   "outputs": [],
   "source": [
    "#PReLU\n",
    "model = keras.models.Sequential([\n",
    "    keras.layers.Flatten( input_shape=(31,)),\n",
    "    keras.layers.Dense(300, kernel_initializer=\"he_normal\"),\n",
    "    keras.layers.PReLU(),\n",
    "    keras.layers.Dense(100, kernel_initializer=\"he_normal\"),\n",
    "    keras.layers.PReLU(),\n",
    "    keras.layers.Dense(2, activation=\"softmax\")\n",
    "])"
   ]
  },
  {
   "cell_type": "code",
   "execution_count": 0,
   "metadata": {
    "colab": {
     "base_uri": "https://localhost:8080/",
     "height": 357
    },
    "colab_type": "code",
    "executionInfo": {
     "elapsed": 19196,
     "status": "ok",
     "timestamp": 1576510646646,
     "user": {
      "displayName": "Владимир Лабынько",
      "photoUrl": "",
      "userId": "13695216491747397447"
     },
     "user_tz": -180
    },
    "id": "n3Z-lQ24MKeA",
    "outputId": "75b5c3b4-2c30-4d1f-cb55-5a578fe074a6"
   },
   "outputs": [
    {
     "name": "stdout",
     "output_type": "stream",
     "text": [
      "Model: \"sequential_18\"\n",
      "_________________________________________________________________\n",
      "Layer (type)                 Output Shape              Param #   \n",
      "=================================================================\n",
      "flatten_18 (Flatten)         (None, 31)                0         \n",
      "_________________________________________________________________\n",
      "dense_152 (Dense)            (None, 300)               9600      \n",
      "_________________________________________________________________\n",
      "p_re_lu_2 (PReLU)            (None, 300)               300       \n",
      "_________________________________________________________________\n",
      "dense_153 (Dense)            (None, 100)               30100     \n",
      "_________________________________________________________________\n",
      "p_re_lu_3 (PReLU)            (None, 100)               100       \n",
      "_________________________________________________________________\n",
      "dense_154 (Dense)            (None, 2)                 202       \n",
      "=================================================================\n",
      "Total params: 40,302\n",
      "Trainable params: 40,302\n",
      "Non-trainable params: 0\n",
      "_________________________________________________________________\n"
     ]
    }
   ],
   "source": [
    "model.summary()"
   ]
  },
  {
   "cell_type": "code",
   "execution_count": 0,
   "metadata": {
    "colab": {},
    "colab_type": "code",
    "id": "mpZNtpqZbuBG"
   },
   "outputs": [],
   "source": [
    "model.compile(loss=\"sparse_categorical_crossentropy\",\n",
    "              optimizer=keras.optimizers.SGD(lr=1e-3),\n",
    "              metrics=[\"accuracy\"])"
   ]
  },
  {
   "cell_type": "code",
   "execution_count": 0,
   "metadata": {
    "colab": {
     "base_uri": "https://localhost:8080/",
     "height": 374
    },
    "colab_type": "code",
    "executionInfo": {
     "elapsed": 34565,
     "status": "ok",
     "timestamp": 1576510681255,
     "user": {
      "displayName": "Владимир Лабынько",
      "photoUrl": "",
      "userId": "13695216491747397447"
     },
     "user_tz": -180
    },
    "id": "txbqQ_uNbwbK",
    "outputId": "923471d3-266a-4dd2-a915-b828af9e861c"
   },
   "outputs": [
    {
     "name": "stdout",
     "output_type": "stream",
     "text": [
      "Train on 36168 samples, validate on 9043 samples\n",
      "Epoch 1/10\n",
      "36168/36168 [==============================] - 4s 109us/sample - loss: 0.3521 - acc: 0.8837 - val_loss: 0.2877 - val_acc: 0.8874\n",
      "Epoch 2/10\n",
      "36168/36168 [==============================] - 3s 86us/sample - loss: 0.2693 - acc: 0.8962 - val_loss: 0.2709 - val_acc: 0.8919\n",
      "Epoch 3/10\n",
      "36168/36168 [==============================] - 3s 87us/sample - loss: 0.2597 - acc: 0.8980 - val_loss: 0.2677 - val_acc: 0.8913\n",
      "Epoch 4/10\n",
      "36168/36168 [==============================] - 3s 88us/sample - loss: 0.2556 - acc: 0.8986 - val_loss: 0.2642 - val_acc: 0.8916\n",
      "Epoch 5/10\n",
      "36168/36168 [==============================] - 3s 86us/sample - loss: 0.2528 - acc: 0.8992 - val_loss: 0.2631 - val_acc: 0.8910\n",
      "Epoch 6/10\n",
      "36168/36168 [==============================] - 3s 85us/sample - loss: 0.2506 - acc: 0.8998 - val_loss: 0.2609 - val_acc: 0.8922\n",
      "Epoch 7/10\n",
      "36168/36168 [==============================] - 3s 87us/sample - loss: 0.2486 - acc: 0.8993 - val_loss: 0.2612 - val_acc: 0.8912\n",
      "Epoch 8/10\n",
      "36168/36168 [==============================] - 3s 84us/sample - loss: 0.2472 - acc: 0.8994 - val_loss: 0.2585 - val_acc: 0.8943\n",
      "Epoch 9/10\n",
      "36168/36168 [==============================] - 3s 86us/sample - loss: 0.2457 - acc: 0.9003 - val_loss: 0.2575 - val_acc: 0.8919\n",
      "Epoch 10/10\n",
      "36168/36168 [==============================] - 3s 83us/sample - loss: 0.2445 - acc: 0.8999 - val_loss: 0.2569 - val_acc: 0.8913\n"
     ]
    }
   ],
   "source": [
    "history = model.fit(X_train, y_train, epochs=10,\n",
    "                    validation_data=(X_test, y_test))"
   ]
  },
  {
   "cell_type": "code",
   "execution_count": 0,
   "metadata": {
    "colab": {},
    "colab_type": "code",
    "id": "pfM6YkFSb7Z3"
   },
   "outputs": [],
   "source": [
    "#SELU\n",
    "model = keras.models.Sequential()\n",
    "model.add(keras.layers.Flatten( input_shape=(31,)))\n",
    "model.add(keras.layers.Dense(300, activation=\"selu\",\n",
    "                             kernel_initializer=\"lecun_normal\"))\n",
    "for layer in range(99):\n",
    "    model.add(keras.layers.Dense(100, activation=\"selu\",\n",
    "                                 kernel_initializer=\"lecun_normal\"))\n",
    "model.add(keras.layers.Dense(2, activation=\"softmax\"))"
   ]
  },
  {
   "cell_type": "code",
   "execution_count": 0,
   "metadata": {
    "colab": {
     "base_uri": "https://localhost:8080/",
     "height": 1000
    },
    "colab_type": "code",
    "executionInfo": {
     "elapsed": 37276,
     "status": "ok",
     "timestamp": 1576510684017,
     "user": {
      "displayName": "Владимир Лабынько",
      "photoUrl": "",
      "userId": "13695216491747397447"
     },
     "user_tz": -180
    },
    "id": "MHuUjfV-MRIN",
    "outputId": "3f75c401-0cc9-46c5-d898-986b7b22efad"
   },
   "outputs": [
    {
     "name": "stdout",
     "output_type": "stream",
     "text": [
      "Model: \"sequential_19\"\n",
      "_________________________________________________________________\n",
      "Layer (type)                 Output Shape              Param #   \n",
      "=================================================================\n",
      "flatten_19 (Flatten)         (None, 31)                0         \n",
      "_________________________________________________________________\n",
      "dense_155 (Dense)            (None, 300)               9600      \n",
      "_________________________________________________________________\n",
      "dense_156 (Dense)            (None, 100)               30100     \n",
      "_________________________________________________________________\n",
      "dense_157 (Dense)            (None, 100)               10100     \n",
      "_________________________________________________________________\n",
      "dense_158 (Dense)            (None, 100)               10100     \n",
      "_________________________________________________________________\n",
      "dense_159 (Dense)            (None, 100)               10100     \n",
      "_________________________________________________________________\n",
      "dense_160 (Dense)            (None, 100)               10100     \n",
      "_________________________________________________________________\n",
      "dense_161 (Dense)            (None, 100)               10100     \n",
      "_________________________________________________________________\n",
      "dense_162 (Dense)            (None, 100)               10100     \n",
      "_________________________________________________________________\n",
      "dense_163 (Dense)            (None, 100)               10100     \n",
      "_________________________________________________________________\n",
      "dense_164 (Dense)            (None, 100)               10100     \n",
      "_________________________________________________________________\n",
      "dense_165 (Dense)            (None, 100)               10100     \n",
      "_________________________________________________________________\n",
      "dense_166 (Dense)            (None, 100)               10100     \n",
      "_________________________________________________________________\n",
      "dense_167 (Dense)            (None, 100)               10100     \n",
      "_________________________________________________________________\n",
      "dense_168 (Dense)            (None, 100)               10100     \n",
      "_________________________________________________________________\n",
      "dense_169 (Dense)            (None, 100)               10100     \n",
      "_________________________________________________________________\n",
      "dense_170 (Dense)            (None, 100)               10100     \n",
      "_________________________________________________________________\n",
      "dense_171 (Dense)            (None, 100)               10100     \n",
      "_________________________________________________________________\n",
      "dense_172 (Dense)            (None, 100)               10100     \n",
      "_________________________________________________________________\n",
      "dense_173 (Dense)            (None, 100)               10100     \n",
      "_________________________________________________________________\n",
      "dense_174 (Dense)            (None, 100)               10100     \n",
      "_________________________________________________________________\n",
      "dense_175 (Dense)            (None, 100)               10100     \n",
      "_________________________________________________________________\n",
      "dense_176 (Dense)            (None, 100)               10100     \n",
      "_________________________________________________________________\n",
      "dense_177 (Dense)            (None, 100)               10100     \n",
      "_________________________________________________________________\n",
      "dense_178 (Dense)            (None, 100)               10100     \n",
      "_________________________________________________________________\n",
      "dense_179 (Dense)            (None, 100)               10100     \n",
      "_________________________________________________________________\n",
      "dense_180 (Dense)            (None, 100)               10100     \n",
      "_________________________________________________________________\n",
      "dense_181 (Dense)            (None, 100)               10100     \n",
      "_________________________________________________________________\n",
      "dense_182 (Dense)            (None, 100)               10100     \n",
      "_________________________________________________________________\n",
      "dense_183 (Dense)            (None, 100)               10100     \n",
      "_________________________________________________________________\n",
      "dense_184 (Dense)            (None, 100)               10100     \n",
      "_________________________________________________________________\n",
      "dense_185 (Dense)            (None, 100)               10100     \n",
      "_________________________________________________________________\n",
      "dense_186 (Dense)            (None, 100)               10100     \n",
      "_________________________________________________________________\n",
      "dense_187 (Dense)            (None, 100)               10100     \n",
      "_________________________________________________________________\n",
      "dense_188 (Dense)            (None, 100)               10100     \n",
      "_________________________________________________________________\n",
      "dense_189 (Dense)            (None, 100)               10100     \n",
      "_________________________________________________________________\n",
      "dense_190 (Dense)            (None, 100)               10100     \n",
      "_________________________________________________________________\n",
      "dense_191 (Dense)            (None, 100)               10100     \n",
      "_________________________________________________________________\n",
      "dense_192 (Dense)            (None, 100)               10100     \n",
      "_________________________________________________________________\n",
      "dense_193 (Dense)            (None, 100)               10100     \n",
      "_________________________________________________________________\n",
      "dense_194 (Dense)            (None, 100)               10100     \n",
      "_________________________________________________________________\n",
      "dense_195 (Dense)            (None, 100)               10100     \n",
      "_________________________________________________________________\n",
      "dense_196 (Dense)            (None, 100)               10100     \n",
      "_________________________________________________________________\n",
      "dense_197 (Dense)            (None, 100)               10100     \n",
      "_________________________________________________________________\n",
      "dense_198 (Dense)            (None, 100)               10100     \n",
      "_________________________________________________________________\n",
      "dense_199 (Dense)            (None, 100)               10100     \n",
      "_________________________________________________________________\n",
      "dense_200 (Dense)            (None, 100)               10100     \n",
      "_________________________________________________________________\n",
      "dense_201 (Dense)            (None, 100)               10100     \n",
      "_________________________________________________________________\n",
      "dense_202 (Dense)            (None, 100)               10100     \n",
      "_________________________________________________________________\n",
      "dense_203 (Dense)            (None, 100)               10100     \n",
      "_________________________________________________________________\n",
      "dense_204 (Dense)            (None, 100)               10100     \n",
      "_________________________________________________________________\n",
      "dense_205 (Dense)            (None, 100)               10100     \n",
      "_________________________________________________________________\n",
      "dense_206 (Dense)            (None, 100)               10100     \n",
      "_________________________________________________________________\n",
      "dense_207 (Dense)            (None, 100)               10100     \n",
      "_________________________________________________________________\n",
      "dense_208 (Dense)            (None, 100)               10100     \n",
      "_________________________________________________________________\n",
      "dense_209 (Dense)            (None, 100)               10100     \n",
      "_________________________________________________________________\n",
      "dense_210 (Dense)            (None, 100)               10100     \n",
      "_________________________________________________________________\n",
      "dense_211 (Dense)            (None, 100)               10100     \n",
      "_________________________________________________________________\n",
      "dense_212 (Dense)            (None, 100)               10100     \n",
      "_________________________________________________________________\n",
      "dense_213 (Dense)            (None, 100)               10100     \n",
      "_________________________________________________________________\n",
      "dense_214 (Dense)            (None, 100)               10100     \n",
      "_________________________________________________________________\n",
      "dense_215 (Dense)            (None, 100)               10100     \n",
      "_________________________________________________________________\n",
      "dense_216 (Dense)            (None, 100)               10100     \n",
      "_________________________________________________________________\n",
      "dense_217 (Dense)            (None, 100)               10100     \n",
      "_________________________________________________________________\n",
      "dense_218 (Dense)            (None, 100)               10100     \n",
      "_________________________________________________________________\n",
      "dense_219 (Dense)            (None, 100)               10100     \n",
      "_________________________________________________________________\n",
      "dense_220 (Dense)            (None, 100)               10100     \n",
      "_________________________________________________________________\n",
      "dense_221 (Dense)            (None, 100)               10100     \n",
      "_________________________________________________________________\n",
      "dense_222 (Dense)            (None, 100)               10100     \n",
      "_________________________________________________________________\n",
      "dense_223 (Dense)            (None, 100)               10100     \n",
      "_________________________________________________________________\n",
      "dense_224 (Dense)            (None, 100)               10100     \n",
      "_________________________________________________________________\n",
      "dense_225 (Dense)            (None, 100)               10100     \n",
      "_________________________________________________________________\n",
      "dense_226 (Dense)            (None, 100)               10100     \n",
      "_________________________________________________________________\n",
      "dense_227 (Dense)            (None, 100)               10100     \n",
      "_________________________________________________________________\n",
      "dense_228 (Dense)            (None, 100)               10100     \n",
      "_________________________________________________________________\n",
      "dense_229 (Dense)            (None, 100)               10100     \n",
      "_________________________________________________________________\n",
      "dense_230 (Dense)            (None, 100)               10100     \n",
      "_________________________________________________________________\n",
      "dense_231 (Dense)            (None, 100)               10100     \n",
      "_________________________________________________________________\n",
      "dense_232 (Dense)            (None, 100)               10100     \n",
      "_________________________________________________________________\n",
      "dense_233 (Dense)            (None, 100)               10100     \n",
      "_________________________________________________________________\n",
      "dense_234 (Dense)            (None, 100)               10100     \n",
      "_________________________________________________________________\n",
      "dense_235 (Dense)            (None, 100)               10100     \n",
      "_________________________________________________________________\n",
      "dense_236 (Dense)            (None, 100)               10100     \n",
      "_________________________________________________________________\n",
      "dense_237 (Dense)            (None, 100)               10100     \n",
      "_________________________________________________________________\n",
      "dense_238 (Dense)            (None, 100)               10100     \n",
      "_________________________________________________________________\n",
      "dense_239 (Dense)            (None, 100)               10100     \n",
      "_________________________________________________________________\n",
      "dense_240 (Dense)            (None, 100)               10100     \n",
      "_________________________________________________________________\n",
      "dense_241 (Dense)            (None, 100)               10100     \n",
      "_________________________________________________________________\n",
      "dense_242 (Dense)            (None, 100)               10100     \n",
      "_________________________________________________________________\n",
      "dense_243 (Dense)            (None, 100)               10100     \n",
      "_________________________________________________________________\n",
      "dense_244 (Dense)            (None, 100)               10100     \n",
      "_________________________________________________________________\n",
      "dense_245 (Dense)            (None, 100)               10100     \n",
      "_________________________________________________________________\n",
      "dense_246 (Dense)            (None, 100)               10100     \n",
      "_________________________________________________________________\n",
      "dense_247 (Dense)            (None, 100)               10100     \n",
      "_________________________________________________________________\n",
      "dense_248 (Dense)            (None, 100)               10100     \n",
      "_________________________________________________________________\n",
      "dense_249 (Dense)            (None, 100)               10100     \n",
      "_________________________________________________________________\n",
      "dense_250 (Dense)            (None, 100)               10100     \n",
      "_________________________________________________________________\n",
      "dense_251 (Dense)            (None, 100)               10100     \n",
      "_________________________________________________________________\n",
      "dense_252 (Dense)            (None, 100)               10100     \n",
      "_________________________________________________________________\n",
      "dense_253 (Dense)            (None, 100)               10100     \n",
      "_________________________________________________________________\n",
      "dense_254 (Dense)            (None, 100)               10100     \n",
      "_________________________________________________________________\n",
      "dense_255 (Dense)            (None, 2)                 202       \n",
      "=================================================================\n",
      "Total params: 1,029,702\n",
      "Trainable params: 1,029,702\n",
      "Non-trainable params: 0\n",
      "_________________________________________________________________\n"
     ]
    }
   ],
   "source": [
    "model.summary()"
   ]
  },
  {
   "cell_type": "code",
   "execution_count": 0,
   "metadata": {
    "colab": {},
    "colab_type": "code",
    "id": "zw-hVUuQcHHf"
   },
   "outputs": [],
   "source": [
    "model.compile(loss=\"sparse_categorical_crossentropy\",\n",
    "              optimizer=keras.optimizers.SGD(lr=1e-3),\n",
    "              metrics=[\"accuracy\"])"
   ]
  },
  {
   "cell_type": "code",
   "execution_count": 0,
   "metadata": {
    "colab": {
     "base_uri": "https://localhost:8080/",
     "height": 374
    },
    "colab_type": "code",
    "executionInfo": {
     "elapsed": 353341,
     "status": "ok",
     "timestamp": 1576511000127,
     "user": {
      "displayName": "Владимир Лабынько",
      "photoUrl": "",
      "userId": "13695216491747397447"
     },
     "user_tz": -180
    },
    "id": "Hmi8jD3McLUB",
    "outputId": "2f4519d6-e48f-42fb-8854-9549fc004fd7"
   },
   "outputs": [
    {
     "name": "stdout",
     "output_type": "stream",
     "text": [
      "Train on 36168 samples, validate on 9043 samples\n",
      "Epoch 1/10\n",
      "36168/36168 [==============================] - 33s 914us/sample - loss: 0.3553 - acc: 0.8829 - val_loss: 0.3448 - val_acc: 0.8773\n",
      "Epoch 2/10\n",
      "36168/36168 [==============================] - 30s 834us/sample - loss: 0.3219 - acc: 0.8833 - val_loss: 0.3328 - val_acc: 0.8775\n",
      "Epoch 3/10\n",
      "36168/36168 [==============================] - 31s 851us/sample - loss: 0.3068 - acc: 0.8837 - val_loss: 0.3345 - val_acc: 0.8775\n",
      "Epoch 4/10\n",
      "36168/36168 [==============================] - 31s 854us/sample - loss: 0.3005 - acc: 0.8842 - val_loss: 0.3113 - val_acc: 0.8775\n",
      "Epoch 5/10\n",
      "36168/36168 [==============================] - 31s 853us/sample - loss: 0.3341 - acc: 0.8844 - val_loss: 0.3618 - val_acc: 0.8775\n",
      "Epoch 6/10\n",
      "36168/36168 [==============================] - 31s 861us/sample - loss: 0.3173 - acc: 0.8833 - val_loss: 0.3474 - val_acc: 0.8775\n",
      "Epoch 7/10\n",
      "36168/36168 [==============================] - 31s 856us/sample - loss: 0.3007 - acc: 0.8838 - val_loss: 0.3647 - val_acc: 0.8719\n",
      "Epoch 8/10\n",
      "36168/36168 [==============================] - 31s 865us/sample - loss: 0.2866 - acc: 0.8844 - val_loss: 0.3191 - val_acc: 0.8703\n",
      "Epoch 9/10\n",
      "36168/36168 [==============================] - 31s 861us/sample - loss: 0.2720 - acc: 0.8899 - val_loss: 0.2992 - val_acc: 0.8843\n",
      "Epoch 10/10\n",
      "36168/36168 [==============================] - 31s 858us/sample - loss: 0.2816 - acc: 0.8884 - val_loss: 0.2842 - val_acc: 0.8935\n"
     ]
    }
   ],
   "source": [
    "history = model.fit(X_train, y_train, epochs=10,\n",
    "                    validation_data=(X_test, y_test))"
   ]
  },
  {
   "cell_type": "markdown",
   "metadata": {
    "colab_type": "text",
    "id": "93aS-eFFcvAQ"
   },
   "source": [
    "##Пакетная нормализация"
   ]
  },
  {
   "cell_type": "code",
   "execution_count": 0,
   "metadata": {
    "colab": {},
    "colab_type": "code",
    "id": "L_43YCgccxw3"
   },
   "outputs": [],
   "source": [
    "model = keras.models.Sequential([\n",
    "    keras.layers.Flatten( input_shape=(31,)),\n",
    "    keras.layers.BatchNormalization(),\n",
    "    keras.layers.Dense(300, activation=\"relu\"),\n",
    "    keras.layers.BatchNormalization(),\n",
    "    keras.layers.Dense(100, activation=\"relu\"),\n",
    "    keras.layers.BatchNormalization(),\n",
    "    keras.layers.Dense(2, activation=\"softmax\")\n",
    "])"
   ]
  },
  {
   "cell_type": "code",
   "execution_count": 0,
   "metadata": {
    "colab": {
     "base_uri": "https://localhost:8080/",
     "height": 391
    },
    "colab_type": "code",
    "executionInfo": {
     "elapsed": 353308,
     "status": "ok",
     "timestamp": 1576511000137,
     "user": {
      "displayName": "Владимир Лабынько",
      "photoUrl": "",
      "userId": "13695216491747397447"
     },
     "user_tz": -180
    },
    "id": "iHW76N6wc4vO",
    "outputId": "429f2ec6-05a2-4289-c042-825e77b196f0"
   },
   "outputs": [
    {
     "name": "stdout",
     "output_type": "stream",
     "text": [
      "Model: \"sequential_20\"\n",
      "_________________________________________________________________\n",
      "Layer (type)                 Output Shape              Param #   \n",
      "=================================================================\n",
      "flatten_20 (Flatten)         (None, 31)                0         \n",
      "_________________________________________________________________\n",
      "batch_normalization_6 (Batch (None, 31)                124       \n",
      "_________________________________________________________________\n",
      "dense_256 (Dense)            (None, 300)               9600      \n",
      "_________________________________________________________________\n",
      "batch_normalization_7 (Batch (None, 300)               1200      \n",
      "_________________________________________________________________\n",
      "dense_257 (Dense)            (None, 100)               30100     \n",
      "_________________________________________________________________\n",
      "batch_normalization_8 (Batch (None, 100)               400       \n",
      "_________________________________________________________________\n",
      "dense_258 (Dense)            (None, 2)                 202       \n",
      "=================================================================\n",
      "Total params: 41,626\n",
      "Trainable params: 40,764\n",
      "Non-trainable params: 862\n",
      "_________________________________________________________________\n"
     ]
    }
   ],
   "source": [
    "model.summary()"
   ]
  },
  {
   "cell_type": "code",
   "execution_count": 0,
   "metadata": {
    "colab": {
     "base_uri": "https://localhost:8080/",
     "height": 85
    },
    "colab_type": "code",
    "executionInfo": {
     "elapsed": 353289,
     "status": "ok",
     "timestamp": 1576511000138,
     "user": {
      "displayName": "Владимир Лабынько",
      "photoUrl": "",
      "userId": "13695216491747397447"
     },
     "user_tz": -180
    },
    "id": "McLa9XBsc7-m",
    "outputId": "183bc716-1f80-4240-c2a6-31b05ac8aa90"
   },
   "outputs": [
    {
     "data": {
      "text/plain": [
       "[('batch_normalization_6/gamma:0', True),\n",
       " ('batch_normalization_6/beta:0', True),\n",
       " ('batch_normalization_6/moving_mean:0', False),\n",
       " ('batch_normalization_6/moving_variance:0', False)]"
      ]
     },
     "execution_count": 118,
     "metadata": {
      "tags": []
     },
     "output_type": "execute_result"
    }
   ],
   "source": [
    "bn1 = model.layers[1]\n",
    "[(var.name, var.trainable) for var in bn1.variables]"
   ]
  },
  {
   "cell_type": "code",
   "execution_count": 0,
   "metadata": {
    "colab": {
     "base_uri": "https://localhost:8080/",
     "height": 51
    },
    "colab_type": "code",
    "executionInfo": {
     "elapsed": 353271,
     "status": "ok",
     "timestamp": 1576511000141,
     "user": {
      "displayName": "Владимир Лабынько",
      "photoUrl": "",
      "userId": "13695216491747397447"
     },
     "user_tz": -180
    },
    "id": "HUjKv_Dvc922",
    "outputId": "67b2736f-14b4-4c62-f05e-42f729b5728d"
   },
   "outputs": [
    {
     "data": {
      "text/plain": [
       "[<tf.Operation 'batch_normalization_6/cond_2/Merge' type=Merge>,\n",
       " <tf.Operation 'batch_normalization_6/cond_3/Merge' type=Merge>]"
      ]
     },
     "execution_count": 119,
     "metadata": {
      "tags": []
     },
     "output_type": "execute_result"
    }
   ],
   "source": [
    "bn1.updates"
   ]
  },
  {
   "cell_type": "code",
   "execution_count": 0,
   "metadata": {
    "colab": {},
    "colab_type": "code",
    "id": "yvLf_MUxc_h-"
   },
   "outputs": [],
   "source": [
    "model.compile(loss=\"sparse_categorical_crossentropy\",\n",
    "              optimizer=keras.optimizers.SGD(lr=1e-3),\n",
    "              metrics=[\"accuracy\"])"
   ]
  },
  {
   "cell_type": "code",
   "execution_count": 0,
   "metadata": {
    "colab": {
     "base_uri": "https://localhost:8080/",
     "height": 374
    },
    "colab_type": "code",
    "executionInfo": {
     "elapsed": 394928,
     "status": "ok",
     "timestamp": 1576511043298,
     "user": {
      "displayName": "Владимир Лабынько",
      "photoUrl": "",
      "userId": "13695216491747397447"
     },
     "user_tz": -180
    },
    "id": "t6robfA2dA8H",
    "outputId": "89cb18e4-c20e-49b1-d652-d39b3bbe3d71"
   },
   "outputs": [
    {
     "name": "stdout",
     "output_type": "stream",
     "text": [
      "Train on 36168 samples, validate on 9043 samples\n",
      "Epoch 1/10\n",
      "36168/36168 [==============================] - 5s 139us/sample - loss: 0.5073 - acc: 0.7762 - val_loss: 0.3702 - val_acc: 0.8729\n",
      "Epoch 2/10\n",
      "36168/36168 [==============================] - 4s 113us/sample - loss: 0.3303 - acc: 0.8815 - val_loss: 0.3064 - val_acc: 0.8875\n",
      "Epoch 3/10\n",
      "36168/36168 [==============================] - 4s 110us/sample - loss: 0.2890 - acc: 0.8908 - val_loss: 0.2904 - val_acc: 0.8890\n",
      "Epoch 4/10\n",
      "36168/36168 [==============================] - 4s 104us/sample - loss: 0.2726 - acc: 0.8950 - val_loss: 0.2781 - val_acc: 0.8926\n",
      "Epoch 5/10\n",
      "36168/36168 [==============================] - 4s 113us/sample - loss: 0.2654 - acc: 0.8951 - val_loss: 0.2695 - val_acc: 0.8930\n",
      "Epoch 6/10\n",
      "36168/36168 [==============================] - 4s 106us/sample - loss: 0.2617 - acc: 0.8960 - val_loss: 0.2674 - val_acc: 0.8921\n",
      "Epoch 7/10\n",
      "36168/36168 [==============================] - 4s 105us/sample - loss: 0.2583 - acc: 0.8959 - val_loss: 0.2689 - val_acc: 0.8913\n",
      "Epoch 8/10\n",
      "36168/36168 [==============================] - 4s 106us/sample - loss: 0.2533 - acc: 0.8978 - val_loss: 0.2639 - val_acc: 0.8922\n",
      "Epoch 9/10\n",
      "36168/36168 [==============================] - 4s 105us/sample - loss: 0.2536 - acc: 0.8975 - val_loss: 0.2634 - val_acc: 0.8922\n",
      "Epoch 10/10\n",
      "36168/36168 [==============================] - 4s 122us/sample - loss: 0.2521 - acc: 0.8985 - val_loss: 0.2595 - val_acc: 0.8924\n"
     ]
    }
   ],
   "source": [
    "history = model.fit(X_train, y_train, epochs=10,\n",
    "                    validation_data=(X_test, y_test))"
   ]
  },
  {
   "cell_type": "code",
   "execution_count": 0,
   "metadata": {
    "colab": {},
    "colab_type": "code",
    "id": "PpH9Isy6dJmo"
   },
   "outputs": [],
   "source": [
    "model = keras.models.Sequential([\n",
    "    keras.layers.Flatten( input_shape=(31,)),\n",
    "    keras.layers.BatchNormalization(),\n",
    "    keras.layers.Dense(300, use_bias=False),\n",
    "    keras.layers.BatchNormalization(),\n",
    "    keras.layers.Activation(\"relu\"),\n",
    "    keras.layers.Dense(100, use_bias=False),\n",
    "    keras.layers.Activation(\"relu\"),\n",
    "    keras.layers.BatchNormalization(),\n",
    "    keras.layers.Dense(2, activation=\"softmax\")\n",
    "])"
   ]
  },
  {
   "cell_type": "code",
   "execution_count": 0,
   "metadata": {
    "colab": {},
    "colab_type": "code",
    "id": "IK0FFepvdKp_"
   },
   "outputs": [],
   "source": [
    "model.compile(loss=\"sparse_categorical_crossentropy\",\n",
    "              optimizer=keras.optimizers.SGD(lr=1e-3),\n",
    "              metrics=[\"accuracy\"])"
   ]
  },
  {
   "cell_type": "code",
   "execution_count": 0,
   "metadata": {
    "colab": {
     "base_uri": "https://localhost:8080/",
     "height": 374
    },
    "colab_type": "code",
    "executionInfo": {
     "elapsed": 432854,
     "status": "ok",
     "timestamp": 1576511086571,
     "user": {
      "displayName": "Владимир Лабынько",
      "photoUrl": "",
      "userId": "13695216491747397447"
     },
     "user_tz": -180
    },
    "id": "Tbtsn6qTdMA_",
    "outputId": "a0a9d6ff-4c24-4279-8f00-84d9580e2631"
   },
   "outputs": [
    {
     "name": "stdout",
     "output_type": "stream",
     "text": [
      "Train on 36168 samples, validate on 9043 samples\n",
      "Epoch 1/10\n",
      "36168/36168 [==============================] - 6s 154us/sample - loss: 0.5111 - acc: 0.7784 - val_loss: 0.3494 - val_acc: 0.8830\n",
      "Epoch 2/10\n",
      "36168/36168 [==============================] - 4s 111us/sample - loss: 0.3239 - acc: 0.8840 - val_loss: 0.3023 - val_acc: 0.8900\n",
      "Epoch 3/10\n",
      "36168/36168 [==============================] - 4s 108us/sample - loss: 0.2886 - acc: 0.8912 - val_loss: 0.2848 - val_acc: 0.8920\n",
      "Epoch 4/10\n",
      "36168/36168 [==============================] - 4s 102us/sample - loss: 0.2755 - acc: 0.8933 - val_loss: 0.2764 - val_acc: 0.8922\n",
      "Epoch 5/10\n",
      "36168/36168 [==============================] - 4s 105us/sample - loss: 0.2679 - acc: 0.8958 - val_loss: 0.2722 - val_acc: 0.8936\n",
      "Epoch 6/10\n",
      "36168/36168 [==============================] - 4s 106us/sample - loss: 0.2619 - acc: 0.8958 - val_loss: 0.2681 - val_acc: 0.8949\n",
      "Epoch 7/10\n",
      "36168/36168 [==============================] - 4s 107us/sample - loss: 0.2597 - acc: 0.8953 - val_loss: 0.2663 - val_acc: 0.8926\n",
      "Epoch 8/10\n",
      "36168/36168 [==============================] - 4s 105us/sample - loss: 0.2557 - acc: 0.8955 - val_loss: 0.2657 - val_acc: 0.8927\n",
      "Epoch 9/10\n",
      "36168/36168 [==============================] - 4s 107us/sample - loss: 0.2551 - acc: 0.8985 - val_loss: 0.2628 - val_acc: 0.8928\n",
      "Epoch 10/10\n",
      "36168/36168 [==============================] - 4s 110us/sample - loss: 0.2535 - acc: 0.8981 - val_loss: 0.2640 - val_acc: 0.8931\n"
     ]
    }
   ],
   "source": [
    "history = model.fit(X_train, y_train, epochs=10,\n",
    "                    validation_data=(X_test, y_test))"
   ]
  },
  {
   "cell_type": "markdown",
   "metadata": {
    "colab_type": "text",
    "id": "Eh-uuPtrdYUl"
   },
   "source": [
    "##Ускоренные оптимизаторы\n"
   ]
  },
  {
   "cell_type": "code",
   "execution_count": 0,
   "metadata": {
    "colab": {},
    "colab_type": "code",
    "id": "1iaw0A1HdbRd"
   },
   "outputs": [],
   "source": [
    "optimizer = keras.optimizers.SGD(clipvalue=1.0)"
   ]
  },
  {
   "cell_type": "code",
   "execution_count": 0,
   "metadata": {
    "colab": {},
    "colab_type": "code",
    "id": "X31tsUgr9B2g"
   },
   "outputs": [],
   "source": [
    "#SGD\n",
    "model = keras.models.Sequential([\n",
    "    keras.layers.Flatten( input_shape=(31,)),\n",
    "    keras.layers.Dense(300, activation=\"selu\", kernel_initializer=\"lecun_normal\"),\n",
    "    keras.layers.Dense(100, activation=\"selu\", kernel_initializer=\"lecun_normal\"),\n",
    "    keras.layers.Dense(2, activation=\"softmax\")\n",
    "])\n",
    "model.compile(loss=\"sparse_categorical_crossentropy\", optimizer=optimizer, metrics=[\"accuracy\"])"
   ]
  },
  {
   "cell_type": "code",
   "execution_count": 0,
   "metadata": {
    "colab": {
     "base_uri": "https://localhost:8080/",
     "height": 289
    },
    "colab_type": "code",
    "executionInfo": {
     "elapsed": 427765,
     "status": "ok",
     "timestamp": 1576511086583,
     "user": {
      "displayName": "Владимир Лабынько",
      "photoUrl": "",
      "userId": "13695216491747397447"
     },
     "user_tz": -180
    },
    "id": "Ciptb200MokM",
    "outputId": "b4c2f488-88fe-4588-9810-6864b4118bd6"
   },
   "outputs": [
    {
     "name": "stdout",
     "output_type": "stream",
     "text": [
      "Model: \"sequential_22\"\n",
      "_________________________________________________________________\n",
      "Layer (type)                 Output Shape              Param #   \n",
      "=================================================================\n",
      "flatten_22 (Flatten)         (None, 31)                0         \n",
      "_________________________________________________________________\n",
      "dense_262 (Dense)            (None, 300)               9600      \n",
      "_________________________________________________________________\n",
      "dense_263 (Dense)            (None, 100)               30100     \n",
      "_________________________________________________________________\n",
      "dense_264 (Dense)            (None, 2)                 202       \n",
      "=================================================================\n",
      "Total params: 39,902\n",
      "Trainable params: 39,902\n",
      "Non-trainable params: 0\n",
      "_________________________________________________________________\n"
     ]
    }
   ],
   "source": [
    "model.summary()"
   ]
  },
  {
   "cell_type": "code",
   "execution_count": 0,
   "metadata": {
    "colab": {
     "base_uri": "https://localhost:8080/",
     "height": 374
    },
    "colab_type": "code",
    "executionInfo": {
     "elapsed": 39253,
     "status": "ok",
     "timestamp": 1576511125896,
     "user": {
      "displayName": "Владимир Лабынько",
      "photoUrl": "",
      "userId": "13695216491747397447"
     },
     "user_tz": -180
    },
    "id": "K2SCjqGf9Q1S",
    "outputId": "9d25ad73-3fc4-4407-b041-58fc5079ce4f"
   },
   "outputs": [
    {
     "name": "stdout",
     "output_type": "stream",
     "text": [
      "Train on 36168 samples, validate on 9043 samples\n",
      "Epoch 1/10\n",
      "36168/36168 [==============================] - 5s 135us/sample - loss: 0.2720 - acc: 0.8917 - val_loss: 0.2790 - val_acc: 0.8901\n",
      "Epoch 2/10\n",
      "36168/36168 [==============================] - 3s 94us/sample - loss: 0.2501 - acc: 0.8994 - val_loss: 0.2679 - val_acc: 0.8933\n",
      "Epoch 3/10\n",
      "36168/36168 [==============================] - 3s 95us/sample - loss: 0.2433 - acc: 0.8999 - val_loss: 0.2725 - val_acc: 0.8850\n",
      "Epoch 4/10\n",
      "36168/36168 [==============================] - 4s 97us/sample - loss: 0.2409 - acc: 0.9003 - val_loss: 0.2549 - val_acc: 0.8920\n",
      "Epoch 5/10\n",
      "36168/36168 [==============================] - 3s 94us/sample - loss: 0.2388 - acc: 0.9013 - val_loss: 0.2574 - val_acc: 0.8912\n",
      "Epoch 6/10\n",
      "36168/36168 [==============================] - 3s 95us/sample - loss: 0.2372 - acc: 0.9008 - val_loss: 0.2522 - val_acc: 0.8927\n",
      "Epoch 7/10\n",
      "36168/36168 [==============================] - 3s 92us/sample - loss: 0.2360 - acc: 0.9022 - val_loss: 0.2533 - val_acc: 0.8915\n",
      "Epoch 8/10\n",
      "36168/36168 [==============================] - 4s 97us/sample - loss: 0.2350 - acc: 0.9016 - val_loss: 0.2540 - val_acc: 0.8913\n",
      "Epoch 9/10\n",
      "36168/36168 [==============================] - 4s 97us/sample - loss: 0.2342 - acc: 0.9023 - val_loss: 0.2506 - val_acc: 0.8964\n",
      "Epoch 10/10\n",
      "36168/36168 [==============================] - 4s 106us/sample - loss: 0.2331 - acc: 0.9025 - val_loss: 0.2559 - val_acc: 0.8920\n"
     ]
    }
   ],
   "source": [
    "history = model.fit(X_train, y_train, epochs=10,\n",
    "                    validation_data=(X_test, y_test))"
   ]
  },
  {
   "cell_type": "code",
   "execution_count": 0,
   "metadata": {
    "colab": {},
    "colab_type": "code",
    "id": "fzs8UGSFddC9"
   },
   "outputs": [],
   "source": [
    "optimizer = keras.optimizers.Adagrad(lr=0.001)"
   ]
  },
  {
   "cell_type": "code",
   "execution_count": 0,
   "metadata": {
    "colab": {},
    "colab_type": "code",
    "id": "0PXBY6fU9j6E"
   },
   "outputs": [],
   "source": [
    "#Adagrad\n",
    "model = keras.models.Sequential([\n",
    "    keras.layers.Flatten( input_shape=(31,)),\n",
    "    keras.layers.Dense(300, activation=\"selu\", kernel_initializer=\"lecun_normal\"),\n",
    "    keras.layers.Dense(100, activation=\"selu\", kernel_initializer=\"lecun_normal\"),\n",
    "    keras.layers.Dense(2, activation=\"softmax\")\n",
    "])\n",
    "model.compile(loss=\"sparse_categorical_crossentropy\", optimizer=optimizer, metrics=[\"accuracy\"])"
   ]
  },
  {
   "cell_type": "code",
   "execution_count": 0,
   "metadata": {
    "colab": {
     "base_uri": "https://localhost:8080/",
     "height": 289
    },
    "colab_type": "code",
    "executionInfo": {
     "elapsed": 39199,
     "status": "ok",
     "timestamp": 1576511125908,
     "user": {
      "displayName": "Владимир Лабынько",
      "photoUrl": "",
      "userId": "13695216491747397447"
     },
     "user_tz": -180
    },
    "id": "qGYfV89TMtBM",
    "outputId": "744340e2-af17-4673-9f3b-bb08d714b45b"
   },
   "outputs": [
    {
     "name": "stdout",
     "output_type": "stream",
     "text": [
      "Model: \"sequential_23\"\n",
      "_________________________________________________________________\n",
      "Layer (type)                 Output Shape              Param #   \n",
      "=================================================================\n",
      "flatten_23 (Flatten)         (None, 31)                0         \n",
      "_________________________________________________________________\n",
      "dense_265 (Dense)            (None, 300)               9600      \n",
      "_________________________________________________________________\n",
      "dense_266 (Dense)            (None, 100)               30100     \n",
      "_________________________________________________________________\n",
      "dense_267 (Dense)            (None, 2)                 202       \n",
      "=================================================================\n",
      "Total params: 39,902\n",
      "Trainable params: 39,902\n",
      "Non-trainable params: 0\n",
      "_________________________________________________________________\n"
     ]
    }
   ],
   "source": [
    "model.summary()"
   ]
  },
  {
   "cell_type": "code",
   "execution_count": 0,
   "metadata": {
    "colab": {
     "base_uri": "https://localhost:8080/",
     "height": 374
    },
    "colab_type": "code",
    "executionInfo": {
     "elapsed": 79236,
     "status": "ok",
     "timestamp": 1576511165980,
     "user": {
      "displayName": "Владимир Лабынько",
      "photoUrl": "",
      "userId": "13695216491747397447"
     },
     "user_tz": -180
    },
    "id": "asugQy2s9npX",
    "outputId": "517b4944-21d4-4035-ab2f-c83c522bedc8"
   },
   "outputs": [
    {
     "name": "stdout",
     "output_type": "stream",
     "text": [
      "Train on 36168 samples, validate on 9043 samples\n",
      "Epoch 1/10\n",
      "36168/36168 [==============================] - 5s 133us/sample - loss: 0.3221 - acc: 0.8785 - val_loss: 0.2683 - val_acc: 0.8949\n",
      "Epoch 2/10\n",
      "36168/36168 [==============================] - 4s 98us/sample - loss: 0.2557 - acc: 0.8989 - val_loss: 0.2626 - val_acc: 0.8958\n",
      "Epoch 3/10\n",
      "36168/36168 [==============================] - 3s 96us/sample - loss: 0.2510 - acc: 0.8997 - val_loss: 0.2598 - val_acc: 0.8961\n",
      "Epoch 4/10\n",
      "36168/36168 [==============================] - 4s 98us/sample - loss: 0.2482 - acc: 0.8995 - val_loss: 0.2572 - val_acc: 0.8955\n",
      "Epoch 5/10\n",
      "36168/36168 [==============================] - 3s 94us/sample - loss: 0.2464 - acc: 0.8997 - val_loss: 0.2577 - val_acc: 0.8972\n",
      "Epoch 6/10\n",
      "36168/36168 [==============================] - 4s 97us/sample - loss: 0.2450 - acc: 0.9001 - val_loss: 0.2556 - val_acc: 0.8955\n",
      "Epoch 7/10\n",
      "36168/36168 [==============================] - 4s 102us/sample - loss: 0.2437 - acc: 0.9012 - val_loss: 0.2569 - val_acc: 0.8959\n",
      "Epoch 8/10\n",
      "36168/36168 [==============================] - 4s 102us/sample - loss: 0.2424 - acc: 0.9015 - val_loss: 0.2556 - val_acc: 0.8969\n",
      "Epoch 9/10\n",
      "36168/36168 [==============================] - 4s 106us/sample - loss: 0.2416 - acc: 0.9014 - val_loss: 0.2554 - val_acc: 0.8962\n",
      "Epoch 10/10\n",
      "36168/36168 [==============================] - 4s 108us/sample - loss: 0.2408 - acc: 0.9017 - val_loss: 0.2549 - val_acc: 0.8961\n"
     ]
    }
   ],
   "source": [
    "history = model.fit(X_train, y_train, epochs=10,\n",
    "                    validation_data=(X_test, y_test))"
   ]
  },
  {
   "cell_type": "code",
   "execution_count": 0,
   "metadata": {
    "colab": {},
    "colab_type": "code",
    "id": "Z9tzKggk9pak"
   },
   "outputs": [],
   "source": [
    "optimizer = keras.optimizers.RMSprop(lr=0.001, rho=0.9)"
   ]
  },
  {
   "cell_type": "code",
   "execution_count": 0,
   "metadata": {
    "colab": {},
    "colab_type": "code",
    "id": "l0OOJgIx9qFs"
   },
   "outputs": [],
   "source": [
    "#RMSprop\n",
    "model = keras.models.Sequential([\n",
    "    keras.layers.Flatten( input_shape=(31,)),\n",
    "    keras.layers.Dense(300, activation=\"selu\", kernel_initializer=\"lecun_normal\"),\n",
    "    keras.layers.Dense(100, activation=\"selu\", kernel_initializer=\"lecun_normal\"),\n",
    "    keras.layers.Dense(2, activation=\"softmax\")\n",
    "])\n",
    "model.compile(loss=\"sparse_categorical_crossentropy\", optimizer=optimizer, metrics=[\"accuracy\"])"
   ]
  },
  {
   "cell_type": "code",
   "execution_count": 0,
   "metadata": {
    "colab": {
     "base_uri": "https://localhost:8080/",
     "height": 374
    },
    "colab_type": "code",
    "executionInfo": {
     "elapsed": 121254,
     "status": "ok",
     "timestamp": 1576511208071,
     "user": {
      "displayName": "Владимир Лабынько",
      "photoUrl": "",
      "userId": "13695216491747397447"
     },
     "user_tz": -180
    },
    "id": "RveQNj1f-I9M",
    "outputId": "5adf0700-fd05-4886-c1fd-69deb83e2a0f"
   },
   "outputs": [
    {
     "name": "stdout",
     "output_type": "stream",
     "text": [
      "Train on 36168 samples, validate on 9043 samples\n",
      "Epoch 1/10\n",
      "36168/36168 [==============================] - 5s 150us/sample - loss: 0.2818 - acc: 0.8897 - val_loss: 0.2598 - val_acc: 0.8935\n",
      "Epoch 2/10\n",
      "36168/36168 [==============================] - 4s 108us/sample - loss: 0.2474 - acc: 0.8984 - val_loss: 0.2614 - val_acc: 0.8900\n",
      "Epoch 3/10\n",
      "36168/36168 [==============================] - 4s 108us/sample - loss: 0.2426 - acc: 0.9002 - val_loss: 0.2572 - val_acc: 0.8938\n",
      "Epoch 4/10\n",
      "36168/36168 [==============================] - 4s 107us/sample - loss: 0.2405 - acc: 0.9004 - val_loss: 0.2576 - val_acc: 0.8922\n",
      "Epoch 5/10\n",
      "36168/36168 [==============================] - 4s 104us/sample - loss: 0.2396 - acc: 0.9007 - val_loss: 0.2583 - val_acc: 0.8905\n",
      "Epoch 6/10\n",
      "36168/36168 [==============================] - 4s 103us/sample - loss: 0.2393 - acc: 0.9009 - val_loss: 0.2529 - val_acc: 0.8952\n",
      "Epoch 7/10\n",
      "36168/36168 [==============================] - 4s 103us/sample - loss: 0.2385 - acc: 0.9008 - val_loss: 0.2518 - val_acc: 0.8940\n",
      "Epoch 8/10\n",
      "36168/36168 [==============================] - 4s 102us/sample - loss: 0.2375 - acc: 0.9015 - val_loss: 0.2575 - val_acc: 0.8924\n",
      "Epoch 9/10\n",
      "36168/36168 [==============================] - 4s 99us/sample - loss: 0.2374 - acc: 0.9025 - val_loss: 0.2562 - val_acc: 0.8907\n",
      "Epoch 10/10\n",
      "36168/36168 [==============================] - 4s 101us/sample - loss: 0.2373 - acc: 0.9011 - val_loss: 0.2607 - val_acc: 0.8912\n"
     ]
    }
   ],
   "source": [
    "history = model.fit(X_train, y_train, epochs=10,\n",
    "                    validation_data=(X_test, y_test))"
   ]
  },
  {
   "cell_type": "code",
   "execution_count": 0,
   "metadata": {
    "colab": {},
    "colab_type": "code",
    "id": "u3tBWdkv9vgM"
   },
   "outputs": [],
   "source": [
    "optimizer = keras.optimizers.Adam(lr=0.001, beta_1=0.9, beta_2=0.999)"
   ]
  },
  {
   "cell_type": "code",
   "execution_count": 0,
   "metadata": {
    "colab": {},
    "colab_type": "code",
    "id": "1iYu2ENW9w3l"
   },
   "outputs": [],
   "source": [
    "#Adam\n",
    "model = keras.models.Sequential([\n",
    "    keras.layers.Flatten( input_shape=(31,)),\n",
    "    keras.layers.Dense(300, activation=\"selu\", kernel_initializer=\"lecun_normal\"),\n",
    "    keras.layers.Dense(100, activation=\"selu\", kernel_initializer=\"lecun_normal\"),\n",
    "    keras.layers.Dense(2, activation=\"softmax\")\n",
    "])\n",
    "model.compile(loss=\"sparse_categorical_crossentropy\", optimizer=optimizer, metrics=[\"accuracy\"])"
   ]
  },
  {
   "cell_type": "code",
   "execution_count": 0,
   "metadata": {
    "colab": {
     "base_uri": "https://localhost:8080/",
     "height": 374
    },
    "colab_type": "code",
    "executionInfo": {
     "elapsed": 174667,
     "status": "ok",
     "timestamp": 1576511261548,
     "user": {
      "displayName": "Владимир Лабынько",
      "photoUrl": "",
      "userId": "13695216491747397447"
     },
     "user_tz": -180
    },
    "id": "s5suoGQ--J1V",
    "outputId": "a37ce697-ef0f-4a89-809b-f3212b3bf400"
   },
   "outputs": [
    {
     "name": "stdout",
     "output_type": "stream",
     "text": [
      "Train on 36168 samples, validate on 9043 samples\n",
      "Epoch 1/10\n",
      "36168/36168 [==============================] - 6s 172us/sample - loss: 0.2876 - acc: 0.8877 - val_loss: 0.2569 - val_acc: 0.8957\n",
      "Epoch 2/10\n",
      "36168/36168 [==============================] - 5s 134us/sample - loss: 0.2468 - acc: 0.8977 - val_loss: 0.2566 - val_acc: 0.8956\n",
      "Epoch 3/10\n",
      "36168/36168 [==============================] - 5s 140us/sample - loss: 0.2416 - acc: 0.8997 - val_loss: 0.2534 - val_acc: 0.8932\n",
      "Epoch 4/10\n",
      "36168/36168 [==============================] - 5s 140us/sample - loss: 0.2389 - acc: 0.9002 - val_loss: 0.2562 - val_acc: 0.8903\n",
      "Epoch 5/10\n",
      "36168/36168 [==============================] - 5s 146us/sample - loss: 0.2374 - acc: 0.9016 - val_loss: 0.2492 - val_acc: 0.8969\n",
      "Epoch 6/10\n",
      "36168/36168 [==============================] - 5s 141us/sample - loss: 0.2366 - acc: 0.9018 - val_loss: 0.2522 - val_acc: 0.8906\n",
      "Epoch 7/10\n",
      "36168/36168 [==============================] - 5s 129us/sample - loss: 0.2374 - acc: 0.9012 - val_loss: 0.2505 - val_acc: 0.8932\n",
      "Epoch 8/10\n",
      "36168/36168 [==============================] - 5s 135us/sample - loss: 0.2359 - acc: 0.9013 - val_loss: 0.2514 - val_acc: 0.8935\n",
      "Epoch 9/10\n",
      "36168/36168 [==============================] - 5s 128us/sample - loss: 0.2350 - acc: 0.9017 - val_loss: 0.2525 - val_acc: 0.8915\n",
      "Epoch 10/10\n",
      "36168/36168 [==============================] - 5s 134us/sample - loss: 0.2345 - acc: 0.9014 - val_loss: 0.2496 - val_acc: 0.8942\n"
     ]
    }
   ],
   "source": [
    "history = model.fit(X_train, y_train, epochs=10,\n",
    "                    validation_data=(X_test, y_test))"
   ]
  },
  {
   "cell_type": "code",
   "execution_count": 0,
   "metadata": {
    "colab": {},
    "colab_type": "code",
    "id": "DgtOv9SO-Fec"
   },
   "outputs": [],
   "source": [
    "optimizer = keras.optimizers.Adamax(lr=0.001, beta_1=0.9, beta_2=0.999)"
   ]
  },
  {
   "cell_type": "code",
   "execution_count": 0,
   "metadata": {
    "colab": {},
    "colab_type": "code",
    "id": "FGzpR5Ip-GUl"
   },
   "outputs": [],
   "source": [
    "#Adamax\n",
    "model = keras.models.Sequential([\n",
    "    keras.layers.Flatten( input_shape=(31,)),\n",
    "    keras.layers.Dense(300, activation=\"selu\", kernel_initializer=\"lecun_normal\"),\n",
    "    keras.layers.Dense(100, activation=\"selu\", kernel_initializer=\"lecun_normal\"),\n",
    "    keras.layers.Dense(2, activation=\"softmax\")\n",
    "])\n",
    "model.compile(loss=\"sparse_categorical_crossentropy\", optimizer=optimizer, metrics=[\"accuracy\"])"
   ]
  },
  {
   "cell_type": "code",
   "execution_count": 0,
   "metadata": {
    "colab": {
     "base_uri": "https://localhost:8080/",
     "height": 374
    },
    "colab_type": "code",
    "executionInfo": {
     "elapsed": 42970,
     "status": "ok",
     "timestamp": 1576511304644,
     "user": {
      "displayName": "Владимир Лабынько",
      "photoUrl": "",
      "userId": "13695216491747397447"
     },
     "user_tz": -180
    },
    "id": "tlKWn35n-Khc",
    "outputId": "32362f3f-3797-4f18-f310-6cbb3028e9e3"
   },
   "outputs": [
    {
     "name": "stdout",
     "output_type": "stream",
     "text": [
      "Train on 36168 samples, validate on 9043 samples\n",
      "Epoch 1/10\n",
      "36168/36168 [==============================] - 5s 141us/sample - loss: 0.2722 - acc: 0.8936 - val_loss: 0.2718 - val_acc: 0.8892\n",
      "Epoch 2/10\n",
      "36168/36168 [==============================] - 4s 102us/sample - loss: 0.2507 - acc: 0.8967 - val_loss: 0.2580 - val_acc: 0.8910\n",
      "Epoch 3/10\n",
      "36168/36168 [==============================] - 4s 101us/sample - loss: 0.2437 - acc: 0.8981 - val_loss: 0.2583 - val_acc: 0.8914\n",
      "Epoch 4/10\n",
      "36168/36168 [==============================] - 4s 102us/sample - loss: 0.2403 - acc: 0.9006 - val_loss: 0.2496 - val_acc: 0.8928\n",
      "Epoch 5/10\n",
      "36168/36168 [==============================] - 4s 105us/sample - loss: 0.2388 - acc: 0.9006 - val_loss: 0.2527 - val_acc: 0.8906\n",
      "Epoch 6/10\n",
      "36168/36168 [==============================] - 4s 101us/sample - loss: 0.2363 - acc: 0.9029 - val_loss: 0.2505 - val_acc: 0.8919\n",
      "Epoch 7/10\n",
      "36168/36168 [==============================] - 4s 107us/sample - loss: 0.2349 - acc: 0.9025 - val_loss: 0.2533 - val_acc: 0.8932\n",
      "Epoch 8/10\n",
      "36168/36168 [==============================] - 4s 115us/sample - loss: 0.2343 - acc: 0.9020 - val_loss: 0.2488 - val_acc: 0.8938\n",
      "Epoch 9/10\n",
      "36168/36168 [==============================] - 4s 104us/sample - loss: 0.2323 - acc: 0.9048 - val_loss: 0.2542 - val_acc: 0.8897\n",
      "Epoch 10/10\n",
      "36168/36168 [==============================] - 4s 103us/sample - loss: 0.2317 - acc: 0.9039 - val_loss: 0.2463 - val_acc: 0.8962\n"
     ]
    }
   ],
   "source": [
    "history = model.fit(X_train, y_train, epochs=10,\n",
    "                    validation_data=(X_test, y_test))"
   ]
  },
  {
   "cell_type": "code",
   "execution_count": 0,
   "metadata": {
    "colab": {},
    "colab_type": "code",
    "id": "JR6AFIva-VY9"
   },
   "outputs": [],
   "source": [
    "optimizer = keras.optimizers.Nadam(lr=0.001, beta_1=0.9, beta_2=0.999)"
   ]
  },
  {
   "cell_type": "code",
   "execution_count": 0,
   "metadata": {
    "colab": {},
    "colab_type": "code",
    "id": "GZjhpptQ-V39"
   },
   "outputs": [],
   "source": [
    "#Nadam\n",
    "model = keras.models.Sequential([\n",
    "    keras.layers.Flatten( input_shape=(31,)),\n",
    "    keras.layers.Dense(300, activation=\"selu\", kernel_initializer=\"lecun_normal\"),\n",
    "    keras.layers.Dense(100, activation=\"selu\", kernel_initializer=\"lecun_normal\"),\n",
    "    keras.layers.Dense(2, activation=\"softmax\")\n",
    "])\n",
    "model.compile(loss=\"sparse_categorical_crossentropy\", optimizer=optimizer, metrics=[\"accuracy\"])"
   ]
  },
  {
   "cell_type": "code",
   "execution_count": 0,
   "metadata": {
    "colab": {
     "base_uri": "https://localhost:8080/",
     "height": 374
    },
    "colab_type": "code",
    "executionInfo": {
     "elapsed": 90601,
     "status": "ok",
     "timestamp": 1576511352331,
     "user": {
      "displayName": "Владимир Лабынько",
      "photoUrl": "",
      "userId": "13695216491747397447"
     },
     "user_tz": -180
    },
    "id": "WbyUpmV6-YAG",
    "outputId": "ffd3bc57-9c21-416a-f520-1c00e0eba18c"
   },
   "outputs": [
    {
     "name": "stdout",
     "output_type": "stream",
     "text": [
      "Train on 36168 samples, validate on 9043 samples\n",
      "Epoch 1/10\n",
      "36168/36168 [==============================] - 6s 160us/sample - loss: 0.2823 - acc: 0.8891 - val_loss: 0.2727 - val_acc: 0.8863\n",
      "Epoch 2/10\n",
      "36168/36168 [==============================] - 4s 113us/sample - loss: 0.2465 - acc: 0.8987 - val_loss: 0.2514 - val_acc: 0.8930\n",
      "Epoch 3/10\n",
      "36168/36168 [==============================] - 4s 119us/sample - loss: 0.2407 - acc: 0.8998 - val_loss: 0.2495 - val_acc: 0.8926\n",
      "Epoch 4/10\n",
      "36168/36168 [==============================] - 4s 116us/sample - loss: 0.2391 - acc: 0.9001 - val_loss: 0.2535 - val_acc: 0.8909\n",
      "Epoch 5/10\n",
      "36168/36168 [==============================] - 5s 130us/sample - loss: 0.2375 - acc: 0.9009 - val_loss: 0.2513 - val_acc: 0.8927\n",
      "Epoch 6/10\n",
      "36168/36168 [==============================] - 4s 121us/sample - loss: 0.2367 - acc: 0.9016 - val_loss: 0.2517 - val_acc: 0.8923\n",
      "Epoch 7/10\n",
      "36168/36168 [==============================] - 4s 116us/sample - loss: 0.2356 - acc: 0.9008 - val_loss: 0.2503 - val_acc: 0.8937\n",
      "Epoch 8/10\n",
      "36168/36168 [==============================] - 4s 124us/sample - loss: 0.2347 - acc: 0.9017 - val_loss: 0.2534 - val_acc: 0.8919\n",
      "Epoch 9/10\n",
      "36168/36168 [==============================] - 4s 119us/sample - loss: 0.2339 - acc: 0.9018 - val_loss: 0.2507 - val_acc: 0.8937\n",
      "Epoch 10/10\n",
      "36168/36168 [==============================] - 4s 114us/sample - loss: 0.2331 - acc: 0.9020 - val_loss: 0.2465 - val_acc: 0.8955\n"
     ]
    }
   ],
   "source": [
    "history = model.fit(X_train, y_train, epochs=10,\n",
    "                    validation_data=(X_test, y_test))"
   ]
  },
  {
   "cell_type": "markdown",
   "metadata": {
    "colab_type": "text",
    "id": "z2YCyGMI-oxd"
   },
   "source": [
    "### Exponential Scheduling\n"
   ]
  },
  {
   "cell_type": "code",
   "execution_count": 0,
   "metadata": {
    "colab": {},
    "colab_type": "code",
    "id": "WthJTr3M-rG9"
   },
   "outputs": [],
   "source": [
    "def exponential_decay_fn(epoch):\n",
    "    return 0.01 * 0.1**(epoch / 20)\n",
    "\n",
    "def exponential_decay(lr0, s):\n",
    "    def exponential_decay_fn(epoch):\n",
    "        return lr0 * 0.1**(epoch / s)\n",
    "    return exponential_decay_fn\n",
    "\n",
    "exponential_decay_fn = exponential_decay(lr0=0.01, s=20)"
   ]
  },
  {
   "cell_type": "code",
   "execution_count": 0,
   "metadata": {
    "colab": {},
    "colab_type": "code",
    "id": "079qxnV6-5U0"
   },
   "outputs": [],
   "source": [
    "model = keras.models.Sequential([\n",
    "    keras.layers.Flatten( input_shape=(31,)),\n",
    "    keras.layers.Dense(300, activation=\"selu\", kernel_initializer=\"lecun_normal\"),\n",
    "    keras.layers.Dense(100, activation=\"selu\", kernel_initializer=\"lecun_normal\"),\n",
    "    keras.layers.Dense(2, activation=\"softmax\")\n",
    "])\n",
    "model.compile(loss=\"sparse_categorical_crossentropy\", optimizer=\"nadam\", metrics=[\"accuracy\"])\n",
    "n_epochs = 10"
   ]
  },
  {
   "cell_type": "code",
   "execution_count": 0,
   "metadata": {
    "colab": {
     "base_uri": "https://localhost:8080/",
     "height": 374
    },
    "colab_type": "code",
    "executionInfo": {
     "elapsed": 139135,
     "status": "ok",
     "timestamp": 1576511400924,
     "user": {
      "displayName": "Владимир Лабынько",
      "photoUrl": "",
      "userId": "13695216491747397447"
     },
     "user_tz": -180
    },
    "id": "va0zTgvK-9yE",
    "outputId": "2419fb37-2b5d-4327-efa9-7f85ca218717"
   },
   "outputs": [
    {
     "name": "stdout",
     "output_type": "stream",
     "text": [
      "Train on 36168 samples, validate on 9043 samples\n",
      "Epoch 1/10\n",
      "36168/36168 [==============================] - 6s 169us/sample - loss: 0.3105 - acc: 0.8792 - val_loss: 0.3936 - val_acc: 0.8530\n",
      "Epoch 2/10\n",
      "36168/36168 [==============================] - 4s 114us/sample - loss: 0.2847 - acc: 0.8865 - val_loss: 0.2930 - val_acc: 0.8756\n",
      "Epoch 3/10\n",
      "36168/36168 [==============================] - 4s 115us/sample - loss: 0.2727 - acc: 0.8871 - val_loss: 0.3315 - val_acc: 0.8857\n",
      "Epoch 4/10\n",
      "36168/36168 [==============================] - 4s 113us/sample - loss: 0.2598 - acc: 0.8931 - val_loss: 0.2863 - val_acc: 0.8828\n",
      "Epoch 5/10\n",
      "36168/36168 [==============================] - 4s 112us/sample - loss: 0.2535 - acc: 0.8935 - val_loss: 0.2506 - val_acc: 0.8970\n",
      "Epoch 6/10\n",
      "36168/36168 [==============================] - 4s 113us/sample - loss: 0.2484 - acc: 0.8950 - val_loss: 0.3229 - val_acc: 0.8524\n",
      "Epoch 7/10\n",
      "36168/36168 [==============================] - 4s 114us/sample - loss: 0.2441 - acc: 0.8983 - val_loss: 0.2925 - val_acc: 0.8742\n",
      "Epoch 8/10\n",
      "36168/36168 [==============================] - 4s 121us/sample - loss: 0.2415 - acc: 0.8974 - val_loss: 0.2510 - val_acc: 0.8933\n",
      "Epoch 9/10\n",
      "36168/36168 [==============================] - 4s 118us/sample - loss: 0.2395 - acc: 0.8988 - val_loss: 0.2489 - val_acc: 0.8881\n",
      "Epoch 10/10\n",
      "36168/36168 [==============================] - 4s 118us/sample - loss: 0.2376 - acc: 0.8982 - val_loss: 0.2506 - val_acc: 0.8940\n"
     ]
    }
   ],
   "source": [
    "lr_scheduler = keras.callbacks.LearningRateScheduler(exponential_decay_fn)\n",
    "history = model.fit(X_train, y_train, epochs=n_epochs,\n",
    "                    validation_data=(X_test, y_test),\n",
    "                    callbacks=[lr_scheduler])"
   ]
  },
  {
   "cell_type": "markdown",
   "metadata": {
    "colab_type": "text",
    "id": "OhxTjqAa_DgH"
   },
   "source": [
    "### Piecewise Constant Scheduling"
   ]
  },
  {
   "cell_type": "code",
   "execution_count": 0,
   "metadata": {
    "colab": {},
    "colab_type": "code",
    "id": "DZmrjISO_EUs"
   },
   "outputs": [],
   "source": [
    "def piecewise_constant_fn(epoch):\n",
    "    if epoch < 5:\n",
    "        return 0.01\n",
    "    elif epoch < 15:\n",
    "        return 0.005\n",
    "    else:\n",
    "        return 0.001"
   ]
  },
  {
   "cell_type": "code",
   "execution_count": 0,
   "metadata": {
    "colab": {},
    "colab_type": "code",
    "id": "-IG7qY3S_GlM"
   },
   "outputs": [],
   "source": [
    "def piecewise_constant(boundaries, values):\n",
    "    boundaries = np.array([0] + boundaries)\n",
    "    values = np.array(values)\n",
    "    def piecewise_constant_fn(epoch):\n",
    "        return values[np.argmax(boundaries > epoch) - 1]\n",
    "    return piecewise_constant_fn\n",
    "\n",
    "piecewise_constant_fn = piecewise_constant([5, 15], [0.01, 0.005, 0.001])"
   ]
  },
  {
   "cell_type": "code",
   "execution_count": 0,
   "metadata": {
    "colab": {
     "base_uri": "https://localhost:8080/",
     "height": 884
    },
    "colab_type": "code",
    "executionInfo": {
     "elapsed": 255162,
     "status": "ok",
     "timestamp": 1576511517012,
     "user": {
      "displayName": "Владимир Лабынько",
      "photoUrl": "",
      "userId": "13695216491747397447"
     },
     "user_tz": -180
    },
    "id": "5pD8eGxE_H0s",
    "outputId": "6de622d9-466b-4b4f-9b56-41e89ab11733"
   },
   "outputs": [
    {
     "name": "stdout",
     "output_type": "stream",
     "text": [
      "Train on 36168 samples, validate on 9043 samples\n",
      "Epoch 1/25\n",
      "36168/36168 [==============================] - 6s 168us/sample - loss: 0.3111 - acc: 0.8799 - val_loss: 0.7803 - val_acc: 0.7568\n",
      "Epoch 2/25\n",
      "36168/36168 [==============================] - 4s 124us/sample - loss: 0.3047 - acc: 0.8820 - val_loss: 0.4791 - val_acc: 0.8775\n",
      "Epoch 3/25\n",
      "36168/36168 [==============================] - 4s 122us/sample - loss: 0.2871 - acc: 0.8841 - val_loss: 0.2969 - val_acc: 0.8909\n",
      "Epoch 4/25\n",
      "36168/36168 [==============================] - 4s 118us/sample - loss: 0.2778 - acc: 0.8872 - val_loss: 0.3125 - val_acc: 0.8485\n",
      "Epoch 5/25\n",
      "36168/36168 [==============================] - 4s 119us/sample - loss: 0.2736 - acc: 0.8902 - val_loss: 0.3715 - val_acc: 0.8796\n",
      "Epoch 6/25\n",
      "36168/36168 [==============================] - 4s 114us/sample - loss: 0.2454 - acc: 0.8978 - val_loss: 0.2637 - val_acc: 0.8767\n",
      "Epoch 7/25\n",
      "36168/36168 [==============================] - 4s 121us/sample - loss: 0.2444 - acc: 0.8976 - val_loss: 0.2493 - val_acc: 0.8952\n",
      "Epoch 8/25\n",
      "36168/36168 [==============================] - 5s 126us/sample - loss: 0.2439 - acc: 0.8977 - val_loss: 0.2546 - val_acc: 0.8893\n",
      "Epoch 9/25\n",
      "36168/36168 [==============================] - 4s 122us/sample - loss: 0.2426 - acc: 0.8986 - val_loss: 0.2467 - val_acc: 0.8944\n",
      "Epoch 10/25\n",
      "36168/36168 [==============================] - 4s 121us/sample - loss: 0.2417 - acc: 0.8994 - val_loss: 0.3005 - val_acc: 0.8666\n",
      "Epoch 11/25\n",
      "36168/36168 [==============================] - 4s 121us/sample - loss: 0.2409 - acc: 0.8990 - val_loss: 0.2543 - val_acc: 0.8895\n",
      "Epoch 12/25\n",
      "36168/36168 [==============================] - 4s 116us/sample - loss: 0.2404 - acc: 0.8998 - val_loss: 0.2974 - val_acc: 0.8896\n",
      "Epoch 13/25\n",
      "36168/36168 [==============================] - 4s 117us/sample - loss: 0.2390 - acc: 0.9007 - val_loss: 0.2594 - val_acc: 0.8815\n",
      "Epoch 14/25\n",
      "36168/36168 [==============================] - 4s 122us/sample - loss: 0.2395 - acc: 0.9014 - val_loss: 0.2645 - val_acc: 0.8940\n",
      "Epoch 15/25\n",
      "36168/36168 [==============================] - 4s 120us/sample - loss: 0.2399 - acc: 0.9008 - val_loss: 0.2549 - val_acc: 0.8926\n",
      "Epoch 16/25\n",
      "36168/36168 [==============================] - 4s 119us/sample - loss: 0.2255 - acc: 0.9065 - val_loss: 0.2496 - val_acc: 0.8937\n",
      "Epoch 17/25\n",
      "36168/36168 [==============================] - 5s 126us/sample - loss: 0.2241 - acc: 0.9079 - val_loss: 0.2470 - val_acc: 0.8940\n",
      "Epoch 18/25\n",
      "36168/36168 [==============================] - 5s 125us/sample - loss: 0.2239 - acc: 0.9087 - val_loss: 0.2589 - val_acc: 0.8897\n",
      "Epoch 19/25\n",
      "36168/36168 [==============================] - 5s 129us/sample - loss: 0.2231 - acc: 0.9081 - val_loss: 0.2512 - val_acc: 0.8928\n",
      "Epoch 20/25\n",
      "36168/36168 [==============================] - 4s 118us/sample - loss: 0.2227 - acc: 0.9076 - val_loss: 0.2477 - val_acc: 0.8944\n",
      "Epoch 21/25\n",
      "36168/36168 [==============================] - 4s 123us/sample - loss: 0.2223 - acc: 0.9099 - val_loss: 0.2511 - val_acc: 0.8943\n",
      "Epoch 22/25\n",
      "36168/36168 [==============================] - 4s 120us/sample - loss: 0.2218 - acc: 0.9093 - val_loss: 0.2772 - val_acc: 0.8867\n",
      "Epoch 23/25\n",
      "36168/36168 [==============================] - 4s 124us/sample - loss: 0.2217 - acc: 0.9098 - val_loss: 0.2605 - val_acc: 0.8930\n",
      "Epoch 24/25\n",
      "36168/36168 [==============================] - 4s 119us/sample - loss: 0.2211 - acc: 0.9099 - val_loss: 0.2554 - val_acc: 0.8926\n",
      "Epoch 25/25\n",
      "36168/36168 [==============================] - 4s 120us/sample - loss: 0.2204 - acc: 0.9104 - val_loss: 0.2493 - val_acc: 0.8921\n"
     ]
    }
   ],
   "source": [
    "lr_scheduler = keras.callbacks.LearningRateScheduler(piecewise_constant_fn)\n",
    "\n",
    "model = keras.models.Sequential([\n",
    "    keras.layers.Flatten( input_shape=(31,)),\n",
    "    keras.layers.Dense(300, activation=\"selu\", kernel_initializer=\"lecun_normal\"),\n",
    "    keras.layers.Dense(100, activation=\"selu\", kernel_initializer=\"lecun_normal\"),\n",
    "    keras.layers.Dense(2, activation=\"softmax\")\n",
    "])\n",
    "model.compile(loss=\"sparse_categorical_crossentropy\", optimizer=\"nadam\", metrics=[\"accuracy\"])\n",
    "n_epochs = 25\n",
    "history = model.fit(X_train, y_train, epochs=n_epochs,\n",
    "                    validation_data=(X_test, y_test),\n",
    "                    callbacks=[lr_scheduler])"
   ]
  },
  {
   "cell_type": "markdown",
   "metadata": {
    "colab_type": "text",
    "id": "xrABJiF8_Nv9"
   },
   "source": [
    "### Performance Scheduling"
   ]
  },
  {
   "cell_type": "code",
   "execution_count": 0,
   "metadata": {
    "colab": {
     "base_uri": "https://localhost:8080/",
     "height": 884
    },
    "colab_type": "code",
    "executionInfo": {
     "elapsed": 357820,
     "status": "ok",
     "timestamp": 1576511619693,
     "user": {
      "displayName": "Владимир Лабынько",
      "photoUrl": "",
      "userId": "13695216491747397447"
     },
     "user_tz": -180
    },
    "id": "w7MIG3Z6_PDo",
    "outputId": "be1a7457-cb01-456c-f4e6-5968414d7de9"
   },
   "outputs": [
    {
     "name": "stdout",
     "output_type": "stream",
     "text": [
      "Train on 36168 samples, validate on 9043 samples\n",
      "Epoch 1/25\n",
      "36168/36168 [==============================] - 6s 166us/sample - loss: 0.2794 - acc: 0.8891 - val_loss: 0.2670 - val_acc: 0.8886\n",
      "Epoch 2/25\n",
      "36168/36168 [==============================] - 4s 105us/sample - loss: 0.2575 - acc: 0.8946 - val_loss: 0.2620 - val_acc: 0.8890\n",
      "Epoch 3/25\n",
      "36168/36168 [==============================] - 4s 110us/sample - loss: 0.2548 - acc: 0.8937 - val_loss: 0.2938 - val_acc: 0.8851\n",
      "Epoch 4/25\n",
      "36168/36168 [==============================] - 4s 107us/sample - loss: 0.2529 - acc: 0.8939 - val_loss: 0.2625 - val_acc: 0.8925\n",
      "Epoch 5/25\n",
      "36168/36168 [==============================] - 4s 107us/sample - loss: 0.2533 - acc: 0.8951 - val_loss: 0.2652 - val_acc: 0.8871\n",
      "Epoch 6/25\n",
      "36168/36168 [==============================] - 4s 109us/sample - loss: 0.2490 - acc: 0.8954 - val_loss: 0.2577 - val_acc: 0.8943\n",
      "Epoch 7/25\n",
      "36168/36168 [==============================] - 4s 110us/sample - loss: 0.2475 - acc: 0.8965 - val_loss: 0.2650 - val_acc: 0.8791\n",
      "Epoch 8/25\n",
      "36168/36168 [==============================] - 4s 109us/sample - loss: 0.2481 - acc: 0.8949 - val_loss: 0.2598 - val_acc: 0.8896\n",
      "Epoch 9/25\n",
      "36168/36168 [==============================] - 4s 103us/sample - loss: 0.2456 - acc: 0.8973 - val_loss: 0.2606 - val_acc: 0.8903\n",
      "Epoch 10/25\n",
      "36168/36168 [==============================] - 4s 108us/sample - loss: 0.2451 - acc: 0.8968 - val_loss: 0.2556 - val_acc: 0.8957\n",
      "Epoch 11/25\n",
      "36168/36168 [==============================] - 4s 111us/sample - loss: 0.2448 - acc: 0.8979 - val_loss: 0.2593 - val_acc: 0.8883\n",
      "Epoch 12/25\n",
      "36168/36168 [==============================] - 4s 108us/sample - loss: 0.2448 - acc: 0.8970 - val_loss: 0.2571 - val_acc: 0.8914\n",
      "Epoch 13/25\n",
      "36168/36168 [==============================] - 4s 111us/sample - loss: 0.2426 - acc: 0.8983 - val_loss: 0.2519 - val_acc: 0.8914\n",
      "Epoch 14/25\n",
      "36168/36168 [==============================] - 4s 103us/sample - loss: 0.2429 - acc: 0.8977 - val_loss: 0.2518 - val_acc: 0.8945\n",
      "Epoch 15/25\n",
      "36168/36168 [==============================] - 4s 103us/sample - loss: 0.2428 - acc: 0.8983 - val_loss: 0.2683 - val_acc: 0.8858\n",
      "Epoch 16/25\n",
      "36168/36168 [==============================] - 4s 106us/sample - loss: 0.2414 - acc: 0.8965 - val_loss: 0.2503 - val_acc: 0.8940\n",
      "Epoch 17/25\n",
      "36168/36168 [==============================] - 4s 105us/sample - loss: 0.2403 - acc: 0.8994 - val_loss: 0.2646 - val_acc: 0.8913\n",
      "Epoch 18/25\n",
      "36168/36168 [==============================] - 4s 104us/sample - loss: 0.2411 - acc: 0.8991 - val_loss: 0.2552 - val_acc: 0.8926\n",
      "Epoch 19/25\n",
      "36168/36168 [==============================] - 4s 105us/sample - loss: 0.2399 - acc: 0.9003 - val_loss: 0.2575 - val_acc: 0.8956\n",
      "Epoch 20/25\n",
      "36168/36168 [==============================] - 4s 108us/sample - loss: 0.2381 - acc: 0.8992 - val_loss: 0.2695 - val_acc: 0.8865\n",
      "Epoch 21/25\n",
      "36168/36168 [==============================] - 5s 141us/sample - loss: 0.2381 - acc: 0.8987 - val_loss: 0.2569 - val_acc: 0.8903\n",
      "Epoch 22/25\n",
      "36168/36168 [==============================] - 4s 103us/sample - loss: 0.2299 - acc: 0.9043 - val_loss: 0.2509 - val_acc: 0.8954\n",
      "Epoch 23/25\n",
      "36168/36168 [==============================] - 4s 105us/sample - loss: 0.2281 - acc: 0.9034 - val_loss: 0.2453 - val_acc: 0.8940\n",
      "Epoch 24/25\n",
      "36168/36168 [==============================] - 4s 100us/sample - loss: 0.2283 - acc: 0.9034 - val_loss: 0.2547 - val_acc: 0.8954\n",
      "Epoch 25/25\n",
      "36168/36168 [==============================] - 4s 105us/sample - loss: 0.2273 - acc: 0.9037 - val_loss: 0.2473 - val_acc: 0.8942\n"
     ]
    }
   ],
   "source": [
    "\n",
    "lr_scheduler = keras.callbacks.ReduceLROnPlateau(factor=0.5, patience=5)\n",
    "\n",
    "model = keras.models.Sequential([\n",
    "    keras.layers.Flatten( input_shape=(31,)),\n",
    "    keras.layers.Dense(300, activation=\"selu\", kernel_initializer=\"lecun_normal\"),\n",
    "    keras.layers.Dense(100, activation=\"selu\", kernel_initializer=\"lecun_normal\"),\n",
    "    keras.layers.Dense(2, activation=\"softmax\")\n",
    "])\n",
    "optimizer = keras.optimizers.SGD(lr=0.02, momentum=0.9)\n",
    "model.compile(loss=\"sparse_categorical_crossentropy\", optimizer=optimizer, metrics=[\"accuracy\"])\n",
    "n_epochs = 25\n",
    "history = model.fit(X_train, y_train, epochs=n_epochs,\n",
    "                    validation_data=(X_test, y_test),\n",
    "                    callbacks=[lr_scheduler])"
   ]
  },
  {
   "cell_type": "markdown",
   "metadata": {
    "colab_type": "text",
    "id": "cX_ixt95_bx6"
   },
   "source": [
    "## Dropout"
   ]
  },
  {
   "cell_type": "code",
   "execution_count": 0,
   "metadata": {
    "colab": {
     "base_uri": "https://localhost:8080/",
     "height": 374
    },
    "colab_type": "code",
    "executionInfo": {
     "elapsed": 412004,
     "status": "ok",
     "timestamp": 1576511673899,
     "user": {
      "displayName": "Владимир Лабынько",
      "photoUrl": "",
      "userId": "13695216491747397447"
     },
     "user_tz": -180
    },
    "id": "3IaxunOR_cj6",
    "outputId": "1c8fde26-fd2e-47de-e62d-02a1ccda1c8e"
   },
   "outputs": [
    {
     "name": "stdout",
     "output_type": "stream",
     "text": [
      "Train on 36168 samples, validate on 9043 samples\n",
      "Epoch 1/10\n",
      "36168/36168 [==============================] - 7s 184us/sample - loss: 0.3206 - acc: 0.8838 - val_loss: 0.2631 - val_acc: 0.8928\n",
      "Epoch 2/10\n",
      "36168/36168 [==============================] - 5s 137us/sample - loss: 0.2716 - acc: 0.8944 - val_loss: 0.2485 - val_acc: 0.8964\n",
      "Epoch 3/10\n",
      "36168/36168 [==============================] - 5s 136us/sample - loss: 0.2679 - acc: 0.8955 - val_loss: 0.2553 - val_acc: 0.8962\n",
      "Epoch 4/10\n",
      "36168/36168 [==============================] - 5s 135us/sample - loss: 0.2671 - acc: 0.8954 - val_loss: 0.2501 - val_acc: 0.8951\n",
      "Epoch 5/10\n",
      "36168/36168 [==============================] - 5s 135us/sample - loss: 0.2637 - acc: 0.8950 - val_loss: 0.2519 - val_acc: 0.8878\n",
      "Epoch 6/10\n",
      "36168/36168 [==============================] - 5s 136us/sample - loss: 0.2667 - acc: 0.8953 - val_loss: 0.2507 - val_acc: 0.8916\n",
      "Epoch 7/10\n",
      "36168/36168 [==============================] - 5s 134us/sample - loss: 0.2654 - acc: 0.8963 - val_loss: 0.2513 - val_acc: 0.8948\n",
      "Epoch 8/10\n",
      "36168/36168 [==============================] - 5s 137us/sample - loss: 0.2623 - acc: 0.8977 - val_loss: 0.2580 - val_acc: 0.8874\n",
      "Epoch 9/10\n",
      "36168/36168 [==============================] - 5s 132us/sample - loss: 0.2634 - acc: 0.8966 - val_loss: 0.2594 - val_acc: 0.8897\n",
      "Epoch 10/10\n",
      "36168/36168 [==============================] - 5s 135us/sample - loss: 0.2660 - acc: 0.8958 - val_loss: 0.2471 - val_acc: 0.8974\n"
     ]
    }
   ],
   "source": [
    "model = keras.models.Sequential([\n",
    "    keras.layers.Flatten( input_shape=(31,)),\n",
    "    keras.layers.Dropout(rate=0.2),\n",
    "    keras.layers.Dense(300, activation=\"elu\", kernel_initializer=\"he_normal\"),\n",
    "    keras.layers.Dropout(rate=0.2),\n",
    "    keras.layers.Dense(100, activation=\"elu\", kernel_initializer=\"he_normal\"),\n",
    "    keras.layers.Dropout(rate=0.2),\n",
    "    keras.layers.Dense(2, activation=\"softmax\")\n",
    "])\n",
    "model.compile(loss=\"sparse_categorical_crossentropy\", optimizer=\"nadam\", metrics=[\"accuracy\"])\n",
    "n_epochs = 10\n",
    "history = model.fit(X_train, y_train, epochs=n_epochs,\n",
    "                    validation_data=(X_test, y_test))"
   ]
  },
  {
   "cell_type": "markdown",
   "metadata": {
    "colab_type": "text",
    "id": "zhNAF7MMD36b"
   },
   "source": [
    "Вывод: из оптимизаторов наилучший результат на 10 эпохах показал ADAMAX(0.9039).\n",
    "Наилучший результат из всех получил с помощью Piecewise Constant Scheduling(0.9104). "
   ]
  }
 ],
 "metadata": {
  "accelerator": "TPU",
  "colab": {
   "collapsed_sections": [],
   "name": "bank_data_full.ipynb",
   "provenance": []
  },
  "kernelspec": {
   "display_name": "Python 3",
   "language": "python",
   "name": "python3"
  },
  "language_info": {
   "codemirror_mode": {
    "name": "ipython",
    "version": 3
   },
   "file_extension": ".py",
   "mimetype": "text/x-python",
   "name": "python",
   "nbconvert_exporter": "python",
   "pygments_lexer": "ipython3",
   "version": "3.7.3"
  }
 },
 "nbformat": 4,
 "nbformat_minor": 1
}
